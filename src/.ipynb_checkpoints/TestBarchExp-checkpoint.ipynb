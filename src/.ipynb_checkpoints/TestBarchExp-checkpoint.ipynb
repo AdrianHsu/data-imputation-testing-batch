{
 "cells": [
  {
   "cell_type": "code",
   "execution_count": 3,
   "metadata": {
    "collapsed": false
   },
   "outputs": [],
   "source": [
    "import pandas as pd\n",
    "import numpy as np\n",
    "import sklearn\n",
    "from sklearn.linear_model import LogisticRegression\n",
    "from sklearn.decomposition import NMF\n",
    "from sklearn.svm import SVC\n",
    "from sklearn.preprocessing import MinMaxScaler,scale\n",
    "# import cPickle"
   ]
  },
  {
   "cell_type": "code",
   "execution_count": 4,
   "metadata": {
    "collapsed": true
   },
   "outputs": [],
   "source": [
    "TRAINING_RATE = 0.8\n",
    "TESTING_RATE = 1 - TRAINING_RATE\n",
    "MISSING_RATE = 0.5\n",
    "QUERY_RATE = 0.2\n",
    "np.random.seed(10)"
   ]
  },
  {
   "cell_type": "code",
   "execution_count": 5,
   "metadata": {
    "collapsed": false
   },
   "outputs": [],
   "source": [
    "data = pd.read_csv(\"../dat/wine_quality/winequality-white.csv\",sep=';')"
   ]
  },
  {
   "cell_type": "code",
   "execution_count": 6,
   "metadata": {
    "collapsed": false
   },
   "outputs": [
    {
     "data": {
      "text/html": [
       "<div>\n",
       "<table border=\"1\" class=\"dataframe\">\n",
       "  <thead>\n",
       "    <tr style=\"text-align: right;\">\n",
       "      <th></th>\n",
       "      <th>fixed acidity</th>\n",
       "      <th>volatile acidity</th>\n",
       "      <th>citric acid</th>\n",
       "      <th>residual sugar</th>\n",
       "      <th>chlorides</th>\n",
       "      <th>free sulfur dioxide</th>\n",
       "      <th>total sulfur dioxide</th>\n",
       "      <th>density</th>\n",
       "      <th>pH</th>\n",
       "      <th>sulphates</th>\n",
       "      <th>alcohol</th>\n",
       "      <th>quality</th>\n",
       "    </tr>\n",
       "  </thead>\n",
       "  <tbody>\n",
       "    <tr>\n",
       "      <th>0</th>\n",
       "      <td>7.0</td>\n",
       "      <td>0.27</td>\n",
       "      <td>0.36</td>\n",
       "      <td>20.7</td>\n",
       "      <td>0.045</td>\n",
       "      <td>45.0</td>\n",
       "      <td>170.0</td>\n",
       "      <td>1.0010</td>\n",
       "      <td>3.00</td>\n",
       "      <td>0.45</td>\n",
       "      <td>8.8</td>\n",
       "      <td>6</td>\n",
       "    </tr>\n",
       "    <tr>\n",
       "      <th>1</th>\n",
       "      <td>6.3</td>\n",
       "      <td>0.30</td>\n",
       "      <td>0.34</td>\n",
       "      <td>1.6</td>\n",
       "      <td>0.049</td>\n",
       "      <td>14.0</td>\n",
       "      <td>132.0</td>\n",
       "      <td>0.9940</td>\n",
       "      <td>3.30</td>\n",
       "      <td>0.49</td>\n",
       "      <td>9.5</td>\n",
       "      <td>6</td>\n",
       "    </tr>\n",
       "    <tr>\n",
       "      <th>2</th>\n",
       "      <td>8.1</td>\n",
       "      <td>0.28</td>\n",
       "      <td>0.40</td>\n",
       "      <td>6.9</td>\n",
       "      <td>0.050</td>\n",
       "      <td>30.0</td>\n",
       "      <td>97.0</td>\n",
       "      <td>0.9951</td>\n",
       "      <td>3.26</td>\n",
       "      <td>0.44</td>\n",
       "      <td>10.1</td>\n",
       "      <td>6</td>\n",
       "    </tr>\n",
       "    <tr>\n",
       "      <th>3</th>\n",
       "      <td>7.2</td>\n",
       "      <td>0.23</td>\n",
       "      <td>0.32</td>\n",
       "      <td>8.5</td>\n",
       "      <td>0.058</td>\n",
       "      <td>47.0</td>\n",
       "      <td>186.0</td>\n",
       "      <td>0.9956</td>\n",
       "      <td>3.19</td>\n",
       "      <td>0.40</td>\n",
       "      <td>9.9</td>\n",
       "      <td>6</td>\n",
       "    </tr>\n",
       "    <tr>\n",
       "      <th>4</th>\n",
       "      <td>7.2</td>\n",
       "      <td>0.23</td>\n",
       "      <td>0.32</td>\n",
       "      <td>8.5</td>\n",
       "      <td>0.058</td>\n",
       "      <td>47.0</td>\n",
       "      <td>186.0</td>\n",
       "      <td>0.9956</td>\n",
       "      <td>3.19</td>\n",
       "      <td>0.40</td>\n",
       "      <td>9.9</td>\n",
       "      <td>6</td>\n",
       "    </tr>\n",
       "  </tbody>\n",
       "</table>\n",
       "</div>"
      ],
      "text/plain": [
       "   fixed acidity  volatile acidity  citric acid  residual sugar  chlorides  \\\n",
       "0            7.0              0.27         0.36            20.7      0.045   \n",
       "1            6.3              0.30         0.34             1.6      0.049   \n",
       "2            8.1              0.28         0.40             6.9      0.050   \n",
       "3            7.2              0.23         0.32             8.5      0.058   \n",
       "4            7.2              0.23         0.32             8.5      0.058   \n",
       "\n",
       "   free sulfur dioxide  total sulfur dioxide  density    pH  sulphates  \\\n",
       "0                 45.0                 170.0   1.0010  3.00       0.45   \n",
       "1                 14.0                 132.0   0.9940  3.30       0.49   \n",
       "2                 30.0                  97.0   0.9951  3.26       0.44   \n",
       "3                 47.0                 186.0   0.9956  3.19       0.40   \n",
       "4                 47.0                 186.0   0.9956  3.19       0.40   \n",
       "\n",
       "   alcohol  quality  \n",
       "0      8.8        6  \n",
       "1      9.5        6  \n",
       "2     10.1        6  \n",
       "3      9.9        6  \n",
       "4      9.9        6  "
      ]
     },
     "execution_count": 6,
     "metadata": {},
     "output_type": "execute_result"
    }
   ],
   "source": [
    "data.head()"
   ]
  },
  {
   "cell_type": "code",
   "execution_count": 7,
   "metadata": {
    "collapsed": false
   },
   "outputs": [
    {
     "data": {
      "text/plain": [
       "6    2198\n",
       "5    1457\n",
       "7     880\n",
       "8     175\n",
       "4     163\n",
       "3      20\n",
       "9       5\n",
       "Name: quality, dtype: int64"
      ]
     },
     "execution_count": 7,
     "metadata": {},
     "output_type": "execute_result"
    }
   ],
   "source": [
    "data['quality'].value_counts()"
   ]
  },
  {
   "cell_type": "code",
   "execution_count": 8,
   "metadata": {
    "collapsed": false
   },
   "outputs": [],
   "source": [
    "def preprocessing(d):\n",
    "    #Add normalization code here if necessary\n",
    "    min_max_scaler = MinMaxScaler()\n",
    "    #d.ix[:,0:-1] = scale(d.ix[:,0:-1])\n",
    "    d.ix[:,0:-1] = min_max_scaler.fit_transform(d.ix[:,0:-1])\n",
    "    #d['quality'] = d['quality'].apply(lambda x:1.0 if x==6 else 0.0)\n",
    "    d['quality'] = d['quality'].apply(lambda x: int(x) -3)\n",
    "    d = d.iloc[np.random.permutation(len(d))]\n",
    "    t = int(len(d) * TRAINING_RATE)\n",
    "    tn_data = d.iloc[0:t,:]\n",
    "    tt_data = d.iloc[t:,:]\n",
    "    \n",
    "    tn_X = tn_data.ix[:,0:-1]\n",
    "    tn_Y = tn_data.ix[:,-1]\n",
    "    tt_X = tt_data.ix[:,0:-1]\n",
    "    tt_Y = tt_data.ix[:,-1]\n",
    "    \n",
    "    \n",
    "    return tn_X,tn_Y, tt_X, tt_Y"
   ]
  },
  {
   "cell_type": "code",
   "execution_count": 9,
   "metadata": {
    "collapsed": false
   },
   "outputs": [],
   "source": [
    "def TestMissingGenerate(tt_data,mr=MISSING_RATE):\n",
    "    missing_entry = []\n",
    "    row , col= range(tt_data.shape[0]),range(tt_data.shape[1])\n",
    "    \n",
    "    while len(missing_entry) < tt_data.shape[0] * tt_data.shape[1] * mr:\n",
    "        r = np.random.choice(row)\n",
    "        c = np.random.choice(col)\n",
    "        \n",
    "        if (r,c) not  in missing_entry:\n",
    "            missing_entry.append((r,c))\n",
    "        else:\n",
    "            continue\n",
    "    \n",
    "    for me in missing_entry:\n",
    "        tt_data.set_value(me[0],tt_data.columns[me[1]],np.nan)\n",
    "    return tt_data, missing_entry"
   ]
  },
  {
   "cell_type": "code",
   "execution_count": 10,
   "metadata": {
    "collapsed": true
   },
   "outputs": [],
   "source": [
    "def Imputation(d,missing):\n",
    "    d = d.fillna(0.0)\n",
    "    model = NMF(n_components=3, init='random', random_state=0)\n",
    "    model.fit(d)\n",
    "    H = model.components_\n",
    "    W = model.fit_transform(d)\n",
    "    d_prime = W.dot(H)\n",
    "    \n",
    "    d = d.values\n",
    "    for m in missing:\n",
    "        #d[m[0]][m[1]] = d_prime[m[0]][m[1]]\n",
    "        d[m[0]][m[1]] = 0.0\n",
    "    return d"
   ]
  },
  {
   "cell_type": "code",
   "execution_count": 11,
   "metadata": {
    "collapsed": false
   },
   "outputs": [],
   "source": [
    "tn_X,tn_Y,tt_X,tt_Y = preprocessing(data)"
   ]
  },
  {
   "cell_type": "code",
   "execution_count": 12,
   "metadata": {
    "collapsed": false
   },
   "outputs": [
    {
     "data": {
      "text/html": [
       "<div>\n",
       "<table border=\"1\" class=\"dataframe\">\n",
       "  <thead>\n",
       "    <tr style=\"text-align: right;\">\n",
       "      <th></th>\n",
       "      <th>fixed acidity</th>\n",
       "      <th>volatile acidity</th>\n",
       "      <th>citric acid</th>\n",
       "      <th>residual sugar</th>\n",
       "      <th>chlorides</th>\n",
       "      <th>free sulfur dioxide</th>\n",
       "      <th>total sulfur dioxide</th>\n",
       "      <th>density</th>\n",
       "      <th>pH</th>\n",
       "      <th>sulphates</th>\n",
       "      <th>alcohol</th>\n",
       "    </tr>\n",
       "  </thead>\n",
       "  <tbody>\n",
       "    <tr>\n",
       "      <th>4731</th>\n",
       "      <td>0.144231</td>\n",
       "      <td>0.225490</td>\n",
       "      <td>0.228916</td>\n",
       "      <td>0.151840</td>\n",
       "      <td>0.065282</td>\n",
       "      <td>0.177700</td>\n",
       "      <td>0.303944</td>\n",
       "      <td>0.117602</td>\n",
       "      <td>0.563636</td>\n",
       "      <td>0.279070</td>\n",
       "      <td>0.596774</td>\n",
       "    </tr>\n",
       "    <tr>\n",
       "      <th>937</th>\n",
       "      <td>0.221154</td>\n",
       "      <td>0.274510</td>\n",
       "      <td>0.349398</td>\n",
       "      <td>0.220859</td>\n",
       "      <td>0.103858</td>\n",
       "      <td>0.139373</td>\n",
       "      <td>0.245940</td>\n",
       "      <td>0.206092</td>\n",
       "      <td>0.390909</td>\n",
       "      <td>0.337209</td>\n",
       "      <td>0.161290</td>\n",
       "    </tr>\n",
       "    <tr>\n",
       "      <th>1217</th>\n",
       "      <td>0.403846</td>\n",
       "      <td>0.519608</td>\n",
       "      <td>0.228916</td>\n",
       "      <td>0.176380</td>\n",
       "      <td>0.866469</td>\n",
       "      <td>0.076655</td>\n",
       "      <td>0.489559</td>\n",
       "      <td>0.235011</td>\n",
       "      <td>0.200000</td>\n",
       "      <td>0.302326</td>\n",
       "      <td>0.193548</td>\n",
       "    </tr>\n",
       "    <tr>\n",
       "      <th>3296</th>\n",
       "      <td>0.269231</td>\n",
       "      <td>0.196078</td>\n",
       "      <td>0.253012</td>\n",
       "      <td>0.116564</td>\n",
       "      <td>0.103858</td>\n",
       "      <td>0.202091</td>\n",
       "      <td>0.433875</td>\n",
       "      <td>0.164064</td>\n",
       "      <td>0.381818</td>\n",
       "      <td>0.302326</td>\n",
       "      <td>0.225806</td>\n",
       "    </tr>\n",
       "    <tr>\n",
       "      <th>4524</th>\n",
       "      <td>0.269231</td>\n",
       "      <td>0.078431</td>\n",
       "      <td>0.150602</td>\n",
       "      <td>0.141104</td>\n",
       "      <td>0.118694</td>\n",
       "      <td>0.200348</td>\n",
       "      <td>0.296984</td>\n",
       "      <td>0.152111</td>\n",
       "      <td>0.400000</td>\n",
       "      <td>0.186047</td>\n",
       "      <td>0.322581</td>\n",
       "    </tr>\n",
       "  </tbody>\n",
       "</table>\n",
       "</div>"
      ],
      "text/plain": [
       "      fixed acidity  volatile acidity  citric acid  residual sugar  chlorides  \\\n",
       "4731       0.144231          0.225490     0.228916        0.151840   0.065282   \n",
       "937        0.221154          0.274510     0.349398        0.220859   0.103858   \n",
       "1217       0.403846          0.519608     0.228916        0.176380   0.866469   \n",
       "3296       0.269231          0.196078     0.253012        0.116564   0.103858   \n",
       "4524       0.269231          0.078431     0.150602        0.141104   0.118694   \n",
       "\n",
       "      free sulfur dioxide  total sulfur dioxide   density        pH  \\\n",
       "4731             0.177700              0.303944  0.117602  0.563636   \n",
       "937              0.139373              0.245940  0.206092  0.390909   \n",
       "1217             0.076655              0.489559  0.235011  0.200000   \n",
       "3296             0.202091              0.433875  0.164064  0.381818   \n",
       "4524             0.200348              0.296984  0.152111  0.400000   \n",
       "\n",
       "      sulphates   alcohol  \n",
       "4731   0.279070  0.596774  \n",
       "937    0.337209  0.161290  \n",
       "1217   0.302326  0.193548  \n",
       "3296   0.302326  0.225806  \n",
       "4524   0.186047  0.322581  "
      ]
     },
     "execution_count": 12,
     "metadata": {},
     "output_type": "execute_result"
    }
   ],
   "source": [
    "tn_X.head()"
   ]
  },
  {
   "cell_type": "code",
   "execution_count": 13,
   "metadata": {
    "collapsed": false
   },
   "outputs": [
    {
     "data": {
      "text/plain": [
       "3    1759\n",
       "2    1155\n",
       "4     702\n",
       "5     152\n",
       "1     132\n",
       "0      13\n",
       "6       5\n",
       "Name: quality, dtype: int64"
      ]
     },
     "execution_count": 13,
     "metadata": {},
     "output_type": "execute_result"
    }
   ],
   "source": [
    "tn_Y.value_counts()"
   ]
  },
  {
   "cell_type": "code",
   "execution_count": 14,
   "metadata": {
    "collapsed": false
   },
   "outputs": [],
   "source": [
    "#tt_X.head()"
   ]
  },
  {
   "cell_type": "code",
   "execution_count": 15,
   "metadata": {
    "collapsed": false
   },
   "outputs": [],
   "source": [
    "#set(tn_X.index).intersection(set(tt_X.index))"
   ]
  },
  {
   "cell_type": "code",
   "execution_count": 16,
   "metadata": {
    "collapsed": true
   },
   "outputs": [],
   "source": [
    "tn_X = tn_X.reset_index(drop=True)\n",
    "tt_X = tt_X.reset_index(drop=True)\n",
    "tt_oracle = tt_X.copy()"
   ]
  },
  {
   "cell_type": "code",
   "execution_count": 17,
   "metadata": {
    "collapsed": false
   },
   "outputs": [],
   "source": [
    "#tt_oracle.head()"
   ]
  },
  {
   "cell_type": "code",
   "execution_count": 18,
   "metadata": {
    "collapsed": true
   },
   "outputs": [],
   "source": [
    "tt_X, missing_entry = TestMissingGenerate(tt_X)"
   ]
  },
  {
   "cell_type": "code",
   "execution_count": 19,
   "metadata": {
    "collapsed": true
   },
   "outputs": [],
   "source": [
    "tt_imp = Imputation(tt_X,missing_entry)"
   ]
  },
  {
   "cell_type": "code",
   "execution_count": 20,
   "metadata": {
    "collapsed": false
   },
   "outputs": [
    {
     "data": {
      "text/html": [
       "<div>\n",
       "<table border=\"1\" class=\"dataframe\">\n",
       "  <thead>\n",
       "    <tr style=\"text-align: right;\">\n",
       "      <th></th>\n",
       "      <th>0</th>\n",
       "      <th>1</th>\n",
       "      <th>2</th>\n",
       "      <th>3</th>\n",
       "      <th>4</th>\n",
       "      <th>5</th>\n",
       "      <th>6</th>\n",
       "      <th>7</th>\n",
       "      <th>8</th>\n",
       "      <th>9</th>\n",
       "      <th>10</th>\n",
       "    </tr>\n",
       "  </thead>\n",
       "  <tbody>\n",
       "    <tr>\n",
       "      <th>0</th>\n",
       "      <td>0.000000</td>\n",
       "      <td>0.000000</td>\n",
       "      <td>0.000000</td>\n",
       "      <td>0.000000</td>\n",
       "      <td>0.080119</td>\n",
       "      <td>0.000000</td>\n",
       "      <td>0.361949</td>\n",
       "      <td>0.086948</td>\n",
       "      <td>0.000000</td>\n",
       "      <td>0.000000</td>\n",
       "      <td>0.000000</td>\n",
       "    </tr>\n",
       "    <tr>\n",
       "      <th>1</th>\n",
       "      <td>0.000000</td>\n",
       "      <td>0.000000</td>\n",
       "      <td>0.000000</td>\n",
       "      <td>0.000000</td>\n",
       "      <td>0.000000</td>\n",
       "      <td>0.094077</td>\n",
       "      <td>0.000000</td>\n",
       "      <td>0.000000</td>\n",
       "      <td>0.354545</td>\n",
       "      <td>0.000000</td>\n",
       "      <td>0.000000</td>\n",
       "    </tr>\n",
       "    <tr>\n",
       "      <th>2</th>\n",
       "      <td>0.230769</td>\n",
       "      <td>0.000000</td>\n",
       "      <td>0.000000</td>\n",
       "      <td>0.039877</td>\n",
       "      <td>0.000000</td>\n",
       "      <td>0.000000</td>\n",
       "      <td>0.000000</td>\n",
       "      <td>0.000000</td>\n",
       "      <td>0.000000</td>\n",
       "      <td>0.546512</td>\n",
       "      <td>0.000000</td>\n",
       "    </tr>\n",
       "    <tr>\n",
       "      <th>3</th>\n",
       "      <td>0.211538</td>\n",
       "      <td>0.000000</td>\n",
       "      <td>0.246988</td>\n",
       "      <td>0.000000</td>\n",
       "      <td>0.000000</td>\n",
       "      <td>0.184669</td>\n",
       "      <td>0.324826</td>\n",
       "      <td>0.000000</td>\n",
       "      <td>0.000000</td>\n",
       "      <td>0.430233</td>\n",
       "      <td>0.000000</td>\n",
       "    </tr>\n",
       "    <tr>\n",
       "      <th>4</th>\n",
       "      <td>0.000000</td>\n",
       "      <td>0.000000</td>\n",
       "      <td>0.192771</td>\n",
       "      <td>0.124233</td>\n",
       "      <td>0.059347</td>\n",
       "      <td>0.101045</td>\n",
       "      <td>0.000000</td>\n",
       "      <td>0.083864</td>\n",
       "      <td>0.254545</td>\n",
       "      <td>0.139535</td>\n",
       "      <td>0.693548</td>\n",
       "    </tr>\n",
       "    <tr>\n",
       "      <th>5</th>\n",
       "      <td>0.000000</td>\n",
       "      <td>0.000000</td>\n",
       "      <td>0.168675</td>\n",
       "      <td>0.084356</td>\n",
       "      <td>0.059347</td>\n",
       "      <td>0.034843</td>\n",
       "      <td>0.194896</td>\n",
       "      <td>0.066127</td>\n",
       "      <td>0.427273</td>\n",
       "      <td>0.000000</td>\n",
       "      <td>0.774194</td>\n",
       "    </tr>\n",
       "    <tr>\n",
       "      <th>6</th>\n",
       "      <td>0.000000</td>\n",
       "      <td>0.000000</td>\n",
       "      <td>0.000000</td>\n",
       "      <td>0.000000</td>\n",
       "      <td>0.000000</td>\n",
       "      <td>0.000000</td>\n",
       "      <td>0.266821</td>\n",
       "      <td>0.000000</td>\n",
       "      <td>0.000000</td>\n",
       "      <td>0.000000</td>\n",
       "      <td>0.403226</td>\n",
       "    </tr>\n",
       "    <tr>\n",
       "      <th>7</th>\n",
       "      <td>0.000000</td>\n",
       "      <td>0.000000</td>\n",
       "      <td>0.216867</td>\n",
       "      <td>0.023006</td>\n",
       "      <td>0.074184</td>\n",
       "      <td>0.000000</td>\n",
       "      <td>0.000000</td>\n",
       "      <td>0.072103</td>\n",
       "      <td>0.000000</td>\n",
       "      <td>0.000000</td>\n",
       "      <td>0.629032</td>\n",
       "    </tr>\n",
       "    <tr>\n",
       "      <th>8</th>\n",
       "      <td>0.259615</td>\n",
       "      <td>0.000000</td>\n",
       "      <td>0.000000</td>\n",
       "      <td>0.009202</td>\n",
       "      <td>0.094955</td>\n",
       "      <td>0.097561</td>\n",
       "      <td>0.000000</td>\n",
       "      <td>0.104685</td>\n",
       "      <td>0.245455</td>\n",
       "      <td>0.000000</td>\n",
       "      <td>0.225806</td>\n",
       "    </tr>\n",
       "    <tr>\n",
       "      <th>9</th>\n",
       "      <td>0.307692</td>\n",
       "      <td>0.127451</td>\n",
       "      <td>0.000000</td>\n",
       "      <td>0.124233</td>\n",
       "      <td>0.106825</td>\n",
       "      <td>0.121951</td>\n",
       "      <td>0.000000</td>\n",
       "      <td>0.159823</td>\n",
       "      <td>0.481818</td>\n",
       "      <td>0.372093</td>\n",
       "      <td>0.000000</td>\n",
       "    </tr>\n",
       "    <tr>\n",
       "      <th>10</th>\n",
       "      <td>0.000000</td>\n",
       "      <td>0.147059</td>\n",
       "      <td>0.000000</td>\n",
       "      <td>0.000000</td>\n",
       "      <td>0.000000</td>\n",
       "      <td>0.121951</td>\n",
       "      <td>0.000000</td>\n",
       "      <td>0.238095</td>\n",
       "      <td>0.463636</td>\n",
       "      <td>0.000000</td>\n",
       "      <td>0.000000</td>\n",
       "    </tr>\n",
       "    <tr>\n",
       "      <th>11</th>\n",
       "      <td>0.000000</td>\n",
       "      <td>0.000000</td>\n",
       "      <td>0.000000</td>\n",
       "      <td>0.000000</td>\n",
       "      <td>0.000000</td>\n",
       "      <td>0.000000</td>\n",
       "      <td>0.000000</td>\n",
       "      <td>0.252362</td>\n",
       "      <td>0.236364</td>\n",
       "      <td>0.000000</td>\n",
       "      <td>0.274194</td>\n",
       "    </tr>\n",
       "    <tr>\n",
       "      <th>12</th>\n",
       "      <td>0.394231</td>\n",
       "      <td>0.000000</td>\n",
       "      <td>0.000000</td>\n",
       "      <td>0.018405</td>\n",
       "      <td>0.000000</td>\n",
       "      <td>0.000000</td>\n",
       "      <td>0.392111</td>\n",
       "      <td>0.159823</td>\n",
       "      <td>0.000000</td>\n",
       "      <td>0.000000</td>\n",
       "      <td>0.193548</td>\n",
       "    </tr>\n",
       "    <tr>\n",
       "      <th>13</th>\n",
       "      <td>0.000000</td>\n",
       "      <td>0.000000</td>\n",
       "      <td>0.000000</td>\n",
       "      <td>0.000000</td>\n",
       "      <td>0.121662</td>\n",
       "      <td>0.000000</td>\n",
       "      <td>0.000000</td>\n",
       "      <td>0.000000</td>\n",
       "      <td>0.390909</td>\n",
       "      <td>0.313953</td>\n",
       "      <td>0.177419</td>\n",
       "    </tr>\n",
       "    <tr>\n",
       "      <th>14</th>\n",
       "      <td>0.326923</td>\n",
       "      <td>0.156863</td>\n",
       "      <td>0.000000</td>\n",
       "      <td>0.036810</td>\n",
       "      <td>0.000000</td>\n",
       "      <td>0.052265</td>\n",
       "      <td>0.250580</td>\n",
       "      <td>0.000000</td>\n",
       "      <td>0.581818</td>\n",
       "      <td>0.534884</td>\n",
       "      <td>0.000000</td>\n",
       "    </tr>\n",
       "  </tbody>\n",
       "</table>\n",
       "</div>"
      ],
      "text/plain": [
       "          0         1         2         3         4         5         6   \\\n",
       "0   0.000000  0.000000  0.000000  0.000000  0.080119  0.000000  0.361949   \n",
       "1   0.000000  0.000000  0.000000  0.000000  0.000000  0.094077  0.000000   \n",
       "2   0.230769  0.000000  0.000000  0.039877  0.000000  0.000000  0.000000   \n",
       "3   0.211538  0.000000  0.246988  0.000000  0.000000  0.184669  0.324826   \n",
       "4   0.000000  0.000000  0.192771  0.124233  0.059347  0.101045  0.000000   \n",
       "5   0.000000  0.000000  0.168675  0.084356  0.059347  0.034843  0.194896   \n",
       "6   0.000000  0.000000  0.000000  0.000000  0.000000  0.000000  0.266821   \n",
       "7   0.000000  0.000000  0.216867  0.023006  0.074184  0.000000  0.000000   \n",
       "8   0.259615  0.000000  0.000000  0.009202  0.094955  0.097561  0.000000   \n",
       "9   0.307692  0.127451  0.000000  0.124233  0.106825  0.121951  0.000000   \n",
       "10  0.000000  0.147059  0.000000  0.000000  0.000000  0.121951  0.000000   \n",
       "11  0.000000  0.000000  0.000000  0.000000  0.000000  0.000000  0.000000   \n",
       "12  0.394231  0.000000  0.000000  0.018405  0.000000  0.000000  0.392111   \n",
       "13  0.000000  0.000000  0.000000  0.000000  0.121662  0.000000  0.000000   \n",
       "14  0.326923  0.156863  0.000000  0.036810  0.000000  0.052265  0.250580   \n",
       "\n",
       "          7         8         9         10  \n",
       "0   0.086948  0.000000  0.000000  0.000000  \n",
       "1   0.000000  0.354545  0.000000  0.000000  \n",
       "2   0.000000  0.000000  0.546512  0.000000  \n",
       "3   0.000000  0.000000  0.430233  0.000000  \n",
       "4   0.083864  0.254545  0.139535  0.693548  \n",
       "5   0.066127  0.427273  0.000000  0.774194  \n",
       "6   0.000000  0.000000  0.000000  0.403226  \n",
       "7   0.072103  0.000000  0.000000  0.629032  \n",
       "8   0.104685  0.245455  0.000000  0.225806  \n",
       "9   0.159823  0.481818  0.372093  0.000000  \n",
       "10  0.238095  0.463636  0.000000  0.000000  \n",
       "11  0.252362  0.236364  0.000000  0.274194  \n",
       "12  0.159823  0.000000  0.000000  0.193548  \n",
       "13  0.000000  0.390909  0.313953  0.177419  \n",
       "14  0.000000  0.581818  0.534884  0.000000  "
      ]
     },
     "execution_count": 20,
     "metadata": {},
     "output_type": "execute_result"
    }
   ],
   "source": [
    "pd.DataFrame(tt_imp).head(15)"
   ]
  },
  {
   "cell_type": "code",
   "execution_count": 21,
   "metadata": {
    "collapsed": false
   },
   "outputs": [
    {
     "data": {
      "text/html": [
       "<div>\n",
       "<table border=\"1\" class=\"dataframe\">\n",
       "  <thead>\n",
       "    <tr style=\"text-align: right;\">\n",
       "      <th></th>\n",
       "      <th>fixed acidity</th>\n",
       "      <th>volatile acidity</th>\n",
       "      <th>citric acid</th>\n",
       "      <th>residual sugar</th>\n",
       "      <th>chlorides</th>\n",
       "      <th>free sulfur dioxide</th>\n",
       "      <th>total sulfur dioxide</th>\n",
       "      <th>density</th>\n",
       "      <th>pH</th>\n",
       "      <th>sulphates</th>\n",
       "      <th>alcohol</th>\n",
       "    </tr>\n",
       "  </thead>\n",
       "  <tbody>\n",
       "    <tr>\n",
       "      <th>0</th>\n",
       "      <td>0.288462</td>\n",
       "      <td>0.147059</td>\n",
       "      <td>0.289157</td>\n",
       "      <td>0.013804</td>\n",
       "      <td>0.080119</td>\n",
       "      <td>0.114983</td>\n",
       "      <td>0.361949</td>\n",
       "      <td>0.086948</td>\n",
       "      <td>0.418182</td>\n",
       "      <td>0.267442</td>\n",
       "      <td>0.532258</td>\n",
       "    </tr>\n",
       "    <tr>\n",
       "      <th>1</th>\n",
       "      <td>0.278846</td>\n",
       "      <td>0.098039</td>\n",
       "      <td>0.168675</td>\n",
       "      <td>0.147239</td>\n",
       "      <td>0.089021</td>\n",
       "      <td>0.094077</td>\n",
       "      <td>0.245940</td>\n",
       "      <td>0.146135</td>\n",
       "      <td>0.354545</td>\n",
       "      <td>0.267442</td>\n",
       "      <td>0.467742</td>\n",
       "    </tr>\n",
       "    <tr>\n",
       "      <th>2</th>\n",
       "      <td>0.230769</td>\n",
       "      <td>0.274510</td>\n",
       "      <td>0.162651</td>\n",
       "      <td>0.039877</td>\n",
       "      <td>0.068249</td>\n",
       "      <td>0.038328</td>\n",
       "      <td>0.148492</td>\n",
       "      <td>0.044534</td>\n",
       "      <td>0.163636</td>\n",
       "      <td>0.546512</td>\n",
       "      <td>0.741935</td>\n",
       "    </tr>\n",
       "    <tr>\n",
       "      <th>3</th>\n",
       "      <td>0.211538</td>\n",
       "      <td>0.205882</td>\n",
       "      <td>0.246988</td>\n",
       "      <td>0.156442</td>\n",
       "      <td>0.115727</td>\n",
       "      <td>0.184669</td>\n",
       "      <td>0.324826</td>\n",
       "      <td>0.127048</td>\n",
       "      <td>0.336364</td>\n",
       "      <td>0.430233</td>\n",
       "      <td>0.478495</td>\n",
       "    </tr>\n",
       "    <tr>\n",
       "      <th>4</th>\n",
       "      <td>0.288462</td>\n",
       "      <td>0.235294</td>\n",
       "      <td>0.192771</td>\n",
       "      <td>0.124233</td>\n",
       "      <td>0.059347</td>\n",
       "      <td>0.101045</td>\n",
       "      <td>0.222738</td>\n",
       "      <td>0.083864</td>\n",
       "      <td>0.254545</td>\n",
       "      <td>0.139535</td>\n",
       "      <td>0.693548</td>\n",
       "    </tr>\n",
       "    <tr>\n",
       "      <th>5</th>\n",
       "      <td>0.269231</td>\n",
       "      <td>0.274510</td>\n",
       "      <td>0.168675</td>\n",
       "      <td>0.084356</td>\n",
       "      <td>0.059347</td>\n",
       "      <td>0.034843</td>\n",
       "      <td>0.194896</td>\n",
       "      <td>0.066127</td>\n",
       "      <td>0.427273</td>\n",
       "      <td>0.058140</td>\n",
       "      <td>0.774194</td>\n",
       "    </tr>\n",
       "    <tr>\n",
       "      <th>6</th>\n",
       "      <td>0.221154</td>\n",
       "      <td>0.166667</td>\n",
       "      <td>0.108434</td>\n",
       "      <td>0.151840</td>\n",
       "      <td>0.118694</td>\n",
       "      <td>0.135889</td>\n",
       "      <td>0.266821</td>\n",
       "      <td>0.177174</td>\n",
       "      <td>0.381818</td>\n",
       "      <td>0.151163</td>\n",
       "      <td>0.403226</td>\n",
       "    </tr>\n",
       "    <tr>\n",
       "      <th>7</th>\n",
       "      <td>0.336538</td>\n",
       "      <td>0.166667</td>\n",
       "      <td>0.216867</td>\n",
       "      <td>0.023006</td>\n",
       "      <td>0.074184</td>\n",
       "      <td>0.097561</td>\n",
       "      <td>0.389791</td>\n",
       "      <td>0.072103</td>\n",
       "      <td>0.481818</td>\n",
       "      <td>0.209302</td>\n",
       "      <td>0.629032</td>\n",
       "    </tr>\n",
       "    <tr>\n",
       "      <th>8</th>\n",
       "      <td>0.259615</td>\n",
       "      <td>0.156863</td>\n",
       "      <td>0.114458</td>\n",
       "      <td>0.009202</td>\n",
       "      <td>0.094955</td>\n",
       "      <td>0.097561</td>\n",
       "      <td>0.236659</td>\n",
       "      <td>0.104685</td>\n",
       "      <td>0.245455</td>\n",
       "      <td>0.279070</td>\n",
       "      <td>0.225806</td>\n",
       "    </tr>\n",
       "    <tr>\n",
       "      <th>9</th>\n",
       "      <td>0.307692</td>\n",
       "      <td>0.127451</td>\n",
       "      <td>0.168675</td>\n",
       "      <td>0.124233</td>\n",
       "      <td>0.106825</td>\n",
       "      <td>0.121951</td>\n",
       "      <td>0.494200</td>\n",
       "      <td>0.159823</td>\n",
       "      <td>0.481818</td>\n",
       "      <td>0.372093</td>\n",
       "      <td>0.387097</td>\n",
       "    </tr>\n",
       "  </tbody>\n",
       "</table>\n",
       "</div>"
      ],
      "text/plain": [
       "   fixed acidity  volatile acidity  citric acid  residual sugar  chlorides  \\\n",
       "0       0.288462          0.147059     0.289157        0.013804   0.080119   \n",
       "1       0.278846          0.098039     0.168675        0.147239   0.089021   \n",
       "2       0.230769          0.274510     0.162651        0.039877   0.068249   \n",
       "3       0.211538          0.205882     0.246988        0.156442   0.115727   \n",
       "4       0.288462          0.235294     0.192771        0.124233   0.059347   \n",
       "5       0.269231          0.274510     0.168675        0.084356   0.059347   \n",
       "6       0.221154          0.166667     0.108434        0.151840   0.118694   \n",
       "7       0.336538          0.166667     0.216867        0.023006   0.074184   \n",
       "8       0.259615          0.156863     0.114458        0.009202   0.094955   \n",
       "9       0.307692          0.127451     0.168675        0.124233   0.106825   \n",
       "\n",
       "   free sulfur dioxide  total sulfur dioxide   density        pH  sulphates  \\\n",
       "0             0.114983              0.361949  0.086948  0.418182   0.267442   \n",
       "1             0.094077              0.245940  0.146135  0.354545   0.267442   \n",
       "2             0.038328              0.148492  0.044534  0.163636   0.546512   \n",
       "3             0.184669              0.324826  0.127048  0.336364   0.430233   \n",
       "4             0.101045              0.222738  0.083864  0.254545   0.139535   \n",
       "5             0.034843              0.194896  0.066127  0.427273   0.058140   \n",
       "6             0.135889              0.266821  0.177174  0.381818   0.151163   \n",
       "7             0.097561              0.389791  0.072103  0.481818   0.209302   \n",
       "8             0.097561              0.236659  0.104685  0.245455   0.279070   \n",
       "9             0.121951              0.494200  0.159823  0.481818   0.372093   \n",
       "\n",
       "    alcohol  \n",
       "0  0.532258  \n",
       "1  0.467742  \n",
       "2  0.741935  \n",
       "3  0.478495  \n",
       "4  0.693548  \n",
       "5  0.774194  \n",
       "6  0.403226  \n",
       "7  0.629032  \n",
       "8  0.225806  \n",
       "9  0.387097  "
      ]
     },
     "execution_count": 21,
     "metadata": {},
     "output_type": "execute_result"
    }
   ],
   "source": [
    "tt_oracle.head(10)"
   ]
  },
  {
   "cell_type": "code",
   "execution_count": 22,
   "metadata": {
    "collapsed": false
   },
   "outputs": [
    {
     "data": {
      "text/plain": [
       "LogisticRegression(C=1, class_weight=None, dual=False, fit_intercept=True,\n",
       "          intercept_scaling=1, max_iter=100, multi_class='ovr', n_jobs=1,\n",
       "          penalty='l2', random_state=None, solver='liblinear', tol=0.0001,\n",
       "          verbose=0, warm_start=False)"
      ]
     },
     "execution_count": 22,
     "metadata": {},
     "output_type": "execute_result"
    }
   ],
   "source": [
    "clf = LogisticRegression(C=1)\n",
    "clf.fit(tn_X,tn_Y)"
   ]
  },
  {
   "cell_type": "code",
   "execution_count": 23,
   "metadata": {
    "collapsed": false
   },
   "outputs": [
    {
     "data": {
      "text/plain": [
       "0.52782031648800409"
      ]
     },
     "execution_count": 23,
     "metadata": {},
     "output_type": "execute_result"
    }
   ],
   "source": [
    "sum(clf.predict(tn_X) == tn_Y) / float(len(tn_Y))"
   ]
  },
  {
   "cell_type": "code",
   "execution_count": 24,
   "metadata": {
    "collapsed": false
   },
   "outputs": [
    {
     "data": {
      "text/plain": [
       "0.42244897959183675"
      ]
     },
     "execution_count": 24,
     "metadata": {},
     "output_type": "execute_result"
    }
   ],
   "source": [
    "sum(clf.predict(tt_imp) == tt_Y) / float(len(tt_Y))"
   ]
  },
  {
   "cell_type": "code",
   "execution_count": 25,
   "metadata": {
    "collapsed": true
   },
   "outputs": [],
   "source": [
    "def RandomQuery(m):\n",
    "    q = m[np.random.randint(0,len(m))]\n",
    "    return q"
   ]
  },
  {
   "cell_type": "code",
   "execution_count": null,
   "metadata": {
    "collapsed": true
   },
   "outputs": [],
   "source": [
    "def NaiveHeuristic(model=clf,missing=missing_entry,data=tt_imp): # Active learning\n",
    "    \n",
    "    predict_prob = model.predict_proba(data)\n",
    "    predict = model.predict(data)\n",
    "    coef = model.coef_\n",
    "    certainty = []\n",
    "    for p in predict_prob:\n",
    "        tmp = sorted(p,reverse=True)\n",
    "        certainty.append(tmp[0]-tmp[1])\n",
    "    q_r = np.argsort(certainty)\n",
    "\n",
    "    for r in q_r: \n",
    "        weight = np.argsort(np.absolute(coef[predict[r]]))[::-1]\n",
    "        for w in weight:\n",
    "            if (r,w) in missing:\n",
    "                return (r,w)    "
   ]
  },
  {
   "cell_type": "code",
   "execution_count": null,
   "metadata": {
    "collapsed": false
   },
   "outputs": [
    {
     "name": "stdout",
     "output_type": "stream",
     "text": [
      "0.421428571429\n",
      "0.424489795918\n",
      "0.416326530612\n",
      "0.419387755102\n",
      "0.432653061224\n",
      "0.438775510204\n"
     ]
    }
   ],
   "source": [
    "query_num = 0\n",
    "query_budget = tt_imp.shape[0] * tt_imp.shape[1] * MISSING_RATE * QUERY_RATE\n",
    "\n",
    "res_naive = []\n",
    "while query_num < query_budget:\n",
    "    \n",
    "    #Random query\n",
    "    #query = RandomQuery(missing_entry)\n",
    "    query = NaiveHeuristic()\n",
    "    missing_entry.remove(query)\n",
    "    \n",
    "    tt_imp[query[0]][query[1]] = tt_oracle.ix[query[0],query[1]]\n",
    "    \n",
    "    if query_num % 100 ==0:\n",
    "        #print \"#of Query\" + str(query_num) + \" Query entry: \"\n",
    "        tmp_r = sum(clf.predict(tt_imp) == tt_Y)/ float(len(tt_imp))\n",
    "        print(tmp_r)\n",
    "        res_naive.append(tmp_r)\n",
    "    query_num += 1"
   ]
  },
  {
   "cell_type": "code",
   "execution_count": 28,
   "metadata": {
    "collapsed": false
   },
   "outputs": [
    {
     "data": {
      "text/plain": [
       "0.363265306122"
      ]
     },
     "execution_count": 28,
     "metadata": {},
     "output_type": "execute_result"
    }
   ],
   "source": [
    "0.339795918367\n",
    "0.334693877551\n",
    "0.338775510204\n",
    "0.338775510204\n",
    "0.338775510204\n",
    "0.336734693878\n",
    "0.340816326531\n",
    "0.34387755102\n",
    "0.351020408163\n",
    "0.35\n",
    "0.345918367347\n",
    "0.345918367347\n",
    "0.348979591837\n",
    "0.351020408163\n",
    "0.354081632653\n",
    "0.357142857143\n",
    "0.359183673469\n",
    "0.363265306122"
   ]
  },
  {
   "cell_type": "code",
   "execution_count": 29,
   "metadata": {
    "collapsed": false
   },
   "outputs": [
    {
     "data": {
      "text/plain": [
       "0.477551020408"
      ]
     },
     "execution_count": 29,
     "metadata": {},
     "output_type": "execute_result"
    }
   ],
   "source": [
    "0.464285714286\n",
    "0.463265306122\n",
    "0.466326530612\n",
    "0.469387755102\n",
    "0.473469387755\n",
    "0.478571428571\n",
    "0.477551020408"
   ]
  },
  {
   "cell_type": "code",
   "execution_count": 30,
   "metadata": {
    "collapsed": false
   },
   "outputs": [
    {
     "ename": "NameError",
     "evalue": "name 'cPickle' is not defined",
     "output_type": "error",
     "traceback": [
      "\u001b[0;31m---------------------------------------------------------------------------\u001b[0m",
      "\u001b[0;31mNameError\u001b[0m                                 Traceback (most recent call last)",
      "\u001b[0;32m<ipython-input-30-219fcda3f8f1>\u001b[0m in \u001b[0;36m<module>\u001b[0;34m()\u001b[0m\n\u001b[0;32m----> 1\u001b[0;31m \u001b[0mcPickle\u001b[0m\u001b[0;34m.\u001b[0m\u001b[0mdump\u001b[0m\u001b[0;34m(\u001b[0m\u001b[0mres_naive\u001b[0m\u001b[0;34m,\u001b[0m\u001b[0mopen\u001b[0m\u001b[0;34m(\u001b[0m\u001b[0;34m\"naive_30.pkl\"\u001b[0m\u001b[0;34m,\u001b[0m\u001b[0;34m'w'\u001b[0m\u001b[0;34m)\u001b[0m\u001b[0;34m)\u001b[0m\u001b[0;34m\u001b[0m\u001b[0m\n\u001b[0m",
      "\u001b[0;31mNameError\u001b[0m: name 'cPickle' is not defined"
     ]
    }
   ],
   "source": [
    "# cPickle.dump(res_naive,open(\"naive_30.pkl\",'w'))"
   ]
  },
  {
   "cell_type": "code",
   "execution_count": 31,
   "metadata": {
    "collapsed": false
   },
   "outputs": [
    {
     "data": {
      "text/plain": [
       "0.363265306122"
      ]
     },
     "execution_count": 31,
     "metadata": {},
     "output_type": "execute_result"
    }
   ],
   "source": [
    "#0.8 missing rate 0.3 query rate \n",
    "#of Query0 Query entry: \n",
    "0.339795918367\n",
    "#of Query100 Query entry: \n",
    "0.334693877551\n",
    "#of Query200 Query entry: \n",
    "0.338775510204\n",
    "#of Query300 Query entry: \n",
    "0.338775510204\n",
    "#of Query400 Query entry: \n",
    "0.338775510204\n",
    "#of Query500 Query entry: \n",
    "0.336734693878\n",
    "#of Query600 Query entry: \n",
    "0.340816326531\n",
    "#of Query700 Query entry: \n",
    "0.34387755102\n",
    "#of Query800 Query entry: \n",
    "0.351020408163\n",
    "#of Query900 Query entry: \n",
    "0.35\n",
    "#of Query1000 Query entry: \n",
    "0.345918367347\n",
    "#of Query1100 Query entry: \n",
    "0.345918367347\n",
    "#of Query1200 Query entry: \n",
    "0.348979591837\n",
    "#of Query1300 Query entry: \n",
    "0.351020408163\n",
    "#of Query1400 Query entry: \n",
    "0.354081632653\n",
    "#of Query1500 Query entry: \n",
    "0.357142857143\n",
    "#of Query1600 Query entry: \n",
    "0.359183673469\n",
    "#of Query1700 Query entry: \n",
    "0.363265306122"
   ]
  },
  {
   "cell_type": "code",
   "execution_count": null,
   "metadata": {
    "collapsed": true
   },
   "outputs": [],
   "source": []
  },
  {
   "cell_type": "code",
   "execution_count": null,
   "metadata": {
    "collapsed": true
   },
   "outputs": [],
   "source": []
  }
 ],
 "metadata": {
  "anaconda-cloud": {},
  "kernelspec": {
   "display_name": "Python 3",
   "language": "python",
   "name": "python3"
  },
  "language_info": {
   "codemirror_mode": {
    "name": "ipython",
    "version": 3
   },
   "file_extension": ".py",
   "mimetype": "text/x-python",
   "name": "python",
   "nbconvert_exporter": "python",
   "pygments_lexer": "ipython3",
   "version": "3.5.0"
  }
 },
 "nbformat": 4,
 "nbformat_minor": 1
}
