{
 "cells": [
  {
   "cell_type": "code",
   "execution_count": 10,
   "metadata": {
    "collapsed": false,
    "deletable": true,
    "editable": true
   },
   "outputs": [],
   "source": [
    "import pandas as pd\n",
    "import numpy as np\n",
    "import sklearn\n",
    "from sklearn.linear_model import LogisticRegression\n",
    "from sklearn.decomposition import NMF\n",
    "from sklearn.svm import SVC\n",
    "from sklearn.preprocessing import MinMaxScaler,scale\n",
    "# import cPickle"
   ]
  },
  {
   "cell_type": "code",
   "execution_count": 38,
   "metadata": {
    "collapsed": true,
    "deletable": true,
    "editable": true
   },
   "outputs": [],
   "source": [
    "TRAINING_RATE = 0.5\n",
    "TESTING_RATE = 1 - TRAINING_RATE\n",
    "MISSING_RATE = 0.8\n",
    "# QUERY_RATE = 0.2\n",
    "np.random.seed(0)"
   ]
  },
  {
   "cell_type": "code",
   "execution_count": 56,
   "metadata": {
    "collapsed": false,
    "deletable": true,
    "editable": true
   },
   "outputs": [],
   "source": [
    "data = pd.read_csv(\"../dat/wine_quality/winequality-white.csv\",sep=';')"
   ]
  },
  {
   "cell_type": "code",
   "execution_count": 57,
   "metadata": {
    "collapsed": false,
    "deletable": true,
    "editable": true
   },
   "outputs": [],
   "source": [
    "def preprocessing(d):\n",
    "    #Add normalization code here if necessary\n",
    "#     d.ix[:,0:-1] = scale(d.ix[:,0:-1])\n",
    "    #0-1 scale\n",
    "    min_max_scaler = MinMaxScaler()\n",
    "    d.ix[:,0:-1] = min_max_scaler.fit_transform(d.ix[:,0:-1])\n",
    "    d['quality'] = d['quality'].apply(lambda x: int(x) -3)\n",
    "    d['fil'] = d['quality'].apply(lambda x:0 if x==0 or x==5 or x==6 else 1)\n",
    "    d = d[d['fil']==1]\n",
    "    d.drop('fil',axis=1,inplace=True)\n",
    "    d['quality'] = d['quality'].apply(lambda x: 1 if x==3 or x == 4 else 0)\n",
    "    d = d.iloc[np.random.permutation(len(d))]\n",
    "    t = int(len(d) * TRAINING_RATE)\n",
    "    tn_data = d.iloc[0:t,:]\n",
    "    tt_data = d.iloc[t:,:]\n",
    "    \n",
    "    tn_X = tn_data.ix[:,0:-1]\n",
    "    tn_Y = tn_data.ix[:,-1]\n",
    "    tt_X = tt_data.ix[:,0:-1]\n",
    "    tt_Y = tt_data.ix[:,-1]\n",
    "    \n",
    "    return tn_X,tn_Y, tt_X, tt_Y\n",
    "#     return tt_X, tt_Y"
   ]
  },
  {
   "cell_type": "code",
   "execution_count": 14,
   "metadata": {
    "collapsed": false,
    "deletable": true,
    "editable": true
   },
   "outputs": [],
   "source": [
    "def TestMissingGenerate(tt_data,mr=MISSING_RATE):\n",
    "    missing_entry = []\n",
    "    row , col= range(tt_data.shape[0]),range(tt_data.shape[1])\n",
    "    \n",
    "    while len(missing_entry) < tt_data.shape[0] * tt_data.shape[1] * mr:\n",
    "        r = np.random.choice(row)\n",
    "        c = np.random.choice(col)\n",
    "        \n",
    "        if (r,c) not  in missing_entry:\n",
    "            missing_entry.append((r,c))\n",
    "        else:\n",
    "            continue\n",
    "    \n",
    "    for me in missing_entry:\n",
    "        tt_data.set_value(me[0],tt_data.columns[me[1]],np.nan)\n",
    "    return tt_data, missing_entry"
   ]
  },
  {
   "cell_type": "code",
   "execution_count": 15,
   "metadata": {
    "collapsed": true,
    "deletable": true,
    "editable": true
   },
   "outputs": [],
   "source": [
    "def Imputation(d,missing):\n",
    "    d = d.fillna(0.0)\n",
    "    model = NMF(n_components=4, init='random', random_state=0)\n",
    "    model.fit(d)\n",
    "    H = model.components_\n",
    "    W = model.fit_transform(d)\n",
    "    d_prime = W.dot(H)\n",
    "    \n",
    "#     d = d.values\n",
    "#     for m in missing:\n",
    "#         d[m[0]][m[1]] = d_prime[m[0]][m[1]]\n",
    "#         #d[m[0]][m[1]] = 0.0\n",
    "    return d_prime"
   ]
  },
  {
   "cell_type": "code",
   "execution_count": 58,
   "metadata": {
    "collapsed": false,
    "deletable": true,
    "editable": true
   },
   "outputs": [
    {
     "name": "stderr",
     "output_type": "stream",
     "text": [
      "/Library/Frameworks/Python.framework/Versions/3.5/lib/python3.5/site-packages/ipykernel/__main__.py:10: SettingWithCopyWarning: \n",
      "A value is trying to be set on a copy of a slice from a DataFrame\n",
      "\n",
      "See the caveats in the documentation: http://pandas.pydata.org/pandas-docs/stable/indexing.html#indexing-view-versus-copy\n",
      "/Library/Frameworks/Python.framework/Versions/3.5/lib/python3.5/site-packages/ipykernel/__main__.py:11: SettingWithCopyWarning: \n",
      "A value is trying to be set on a copy of a slice from a DataFrame.\n",
      "Try using .loc[row_indexer,col_indexer] = value instead\n",
      "\n",
      "See the caveats in the documentation: http://pandas.pydata.org/pandas-docs/stable/indexing.html#indexing-view-versus-copy\n"
     ]
    }
   ],
   "source": [
    "tn_X,tn_Y,tt_X,tt_Y = preprocessing(data)\n",
    "# tt_X,tt_Y = preprocessing(data)"
   ]
  },
  {
   "cell_type": "code",
   "execution_count": 69,
   "metadata": {
    "collapsed": true,
    "deletable": true,
    "editable": true
   },
   "outputs": [],
   "source": [
    "tn_X = tn_X.reset_index(drop=True)\n",
    "tn_Y = tn_Y.reset_index(drop=True)\n",
    "tt_X = tt_X.reset_index(drop=True)\n",
    "tt_oracle = tt_X.copy()"
   ]
  },
  {
   "cell_type": "code",
   "execution_count": 74,
   "metadata": {
    "collapsed": false,
    "deletable": true,
    "editable": true
   },
   "outputs": [
    {
     "data": {
      "text/html": [
       "<div>\n",
       "<table border=\"1\" class=\"dataframe\">\n",
       "  <thead>\n",
       "    <tr style=\"text-align: right;\">\n",
       "      <th></th>\n",
       "      <th>fixed acidity</th>\n",
       "      <th>volatile acidity</th>\n",
       "      <th>citric acid</th>\n",
       "      <th>residual sugar</th>\n",
       "      <th>chlorides</th>\n",
       "      <th>free sulfur dioxide</th>\n",
       "      <th>total sulfur dioxide</th>\n",
       "      <th>density</th>\n",
       "      <th>pH</th>\n",
       "      <th>sulphates</th>\n",
       "      <th>alcohol</th>\n",
       "      <th>quality</th>\n",
       "      <th>fil</th>\n",
       "    </tr>\n",
       "  </thead>\n",
       "  <tbody>\n",
       "    <tr>\n",
       "      <th>0</th>\n",
       "      <td>0.307692</td>\n",
       "      <td>0.186275</td>\n",
       "      <td>0.216867</td>\n",
       "      <td>0.308282</td>\n",
       "      <td>0.106825</td>\n",
       "      <td>0.149826</td>\n",
       "      <td>0.373550</td>\n",
       "      <td>0.267785</td>\n",
       "      <td>0.254545</td>\n",
       "      <td>0.267442</td>\n",
       "      <td>0.129032</td>\n",
       "      <td>3</td>\n",
       "      <td>1</td>\n",
       "    </tr>\n",
       "    <tr>\n",
       "      <th>1</th>\n",
       "      <td>0.240385</td>\n",
       "      <td>0.215686</td>\n",
       "      <td>0.204819</td>\n",
       "      <td>0.015337</td>\n",
       "      <td>0.118694</td>\n",
       "      <td>0.041812</td>\n",
       "      <td>0.285383</td>\n",
       "      <td>0.132832</td>\n",
       "      <td>0.527273</td>\n",
       "      <td>0.313953</td>\n",
       "      <td>0.241935</td>\n",
       "      <td>3</td>\n",
       "      <td>1</td>\n",
       "    </tr>\n",
       "    <tr>\n",
       "      <th>2</th>\n",
       "      <td>0.413462</td>\n",
       "      <td>0.196078</td>\n",
       "      <td>0.240964</td>\n",
       "      <td>0.096626</td>\n",
       "      <td>0.121662</td>\n",
       "      <td>0.097561</td>\n",
       "      <td>0.204176</td>\n",
       "      <td>0.154039</td>\n",
       "      <td>0.490909</td>\n",
       "      <td>0.255814</td>\n",
       "      <td>0.338710</td>\n",
       "      <td>3</td>\n",
       "      <td>1</td>\n",
       "    </tr>\n",
       "    <tr>\n",
       "      <th>3</th>\n",
       "      <td>0.326923</td>\n",
       "      <td>0.147059</td>\n",
       "      <td>0.192771</td>\n",
       "      <td>0.121166</td>\n",
       "      <td>0.145401</td>\n",
       "      <td>0.156794</td>\n",
       "      <td>0.410673</td>\n",
       "      <td>0.163678</td>\n",
       "      <td>0.427273</td>\n",
       "      <td>0.209302</td>\n",
       "      <td>0.306452</td>\n",
       "      <td>3</td>\n",
       "      <td>1</td>\n",
       "    </tr>\n",
       "    <tr>\n",
       "      <th>4</th>\n",
       "      <td>0.326923</td>\n",
       "      <td>0.147059</td>\n",
       "      <td>0.192771</td>\n",
       "      <td>0.121166</td>\n",
       "      <td>0.145401</td>\n",
       "      <td>0.156794</td>\n",
       "      <td>0.410673</td>\n",
       "      <td>0.163678</td>\n",
       "      <td>0.427273</td>\n",
       "      <td>0.209302</td>\n",
       "      <td>0.306452</td>\n",
       "      <td>3</td>\n",
       "      <td>1</td>\n",
       "    </tr>\n",
       "    <tr>\n",
       "      <th>5</th>\n",
       "      <td>0.413462</td>\n",
       "      <td>0.196078</td>\n",
       "      <td>0.240964</td>\n",
       "      <td>0.096626</td>\n",
       "      <td>0.121662</td>\n",
       "      <td>0.097561</td>\n",
       "      <td>0.204176</td>\n",
       "      <td>0.154039</td>\n",
       "      <td>0.490909</td>\n",
       "      <td>0.255814</td>\n",
       "      <td>0.338710</td>\n",
       "      <td>3</td>\n",
       "      <td>1</td>\n",
       "    </tr>\n",
       "    <tr>\n",
       "      <th>6</th>\n",
       "      <td>0.230769</td>\n",
       "      <td>0.235294</td>\n",
       "      <td>0.096386</td>\n",
       "      <td>0.098160</td>\n",
       "      <td>0.106825</td>\n",
       "      <td>0.097561</td>\n",
       "      <td>0.294664</td>\n",
       "      <td>0.150183</td>\n",
       "      <td>0.418182</td>\n",
       "      <td>0.290698</td>\n",
       "      <td>0.258065</td>\n",
       "      <td>3</td>\n",
       "      <td>1</td>\n",
       "    </tr>\n",
       "    <tr>\n",
       "      <th>7</th>\n",
       "      <td>0.307692</td>\n",
       "      <td>0.186275</td>\n",
       "      <td>0.216867</td>\n",
       "      <td>0.308282</td>\n",
       "      <td>0.106825</td>\n",
       "      <td>0.149826</td>\n",
       "      <td>0.373550</td>\n",
       "      <td>0.267785</td>\n",
       "      <td>0.254545</td>\n",
       "      <td>0.267442</td>\n",
       "      <td>0.129032</td>\n",
       "      <td>3</td>\n",
       "      <td>1</td>\n",
       "    </tr>\n",
       "    <tr>\n",
       "      <th>8</th>\n",
       "      <td>0.240385</td>\n",
       "      <td>0.215686</td>\n",
       "      <td>0.204819</td>\n",
       "      <td>0.015337</td>\n",
       "      <td>0.118694</td>\n",
       "      <td>0.041812</td>\n",
       "      <td>0.285383</td>\n",
       "      <td>0.132832</td>\n",
       "      <td>0.527273</td>\n",
       "      <td>0.313953</td>\n",
       "      <td>0.241935</td>\n",
       "      <td>3</td>\n",
       "      <td>1</td>\n",
       "    </tr>\n",
       "    <tr>\n",
       "      <th>9</th>\n",
       "      <td>0.413462</td>\n",
       "      <td>0.137255</td>\n",
       "      <td>0.259036</td>\n",
       "      <td>0.013804</td>\n",
       "      <td>0.103858</td>\n",
       "      <td>0.090592</td>\n",
       "      <td>0.278422</td>\n",
       "      <td>0.128976</td>\n",
       "      <td>0.454545</td>\n",
       "      <td>0.267442</td>\n",
       "      <td>0.483871</td>\n",
       "      <td>3</td>\n",
       "      <td>1</td>\n",
       "    </tr>\n",
       "    <tr>\n",
       "      <th>10</th>\n",
       "      <td>0.413462</td>\n",
       "      <td>0.186275</td>\n",
       "      <td>0.246988</td>\n",
       "      <td>0.013037</td>\n",
       "      <td>0.071217</td>\n",
       "      <td>0.031359</td>\n",
       "      <td>0.125290</td>\n",
       "      <td>0.071139</td>\n",
       "      <td>0.245455</td>\n",
       "      <td>0.395349</td>\n",
       "      <td>0.645161</td>\n",
       "      <td>2</td>\n",
       "      <td>1</td>\n",
       "    </tr>\n",
       "    <tr>\n",
       "      <th>11</th>\n",
       "      <td>0.461538</td>\n",
       "      <td>0.147059</td>\n",
       "      <td>0.240964</td>\n",
       "      <td>0.055215</td>\n",
       "      <td>0.077151</td>\n",
       "      <td>0.052265</td>\n",
       "      <td>0.232019</td>\n",
       "      <td>0.146327</td>\n",
       "      <td>0.381818</td>\n",
       "      <td>0.360465</td>\n",
       "      <td>0.274194</td>\n",
       "      <td>2</td>\n",
       "      <td>1</td>\n",
       "    </tr>\n",
       "    <tr>\n",
       "      <th>12</th>\n",
       "      <td>0.394231</td>\n",
       "      <td>0.098039</td>\n",
       "      <td>0.222892</td>\n",
       "      <td>0.009202</td>\n",
       "      <td>0.091988</td>\n",
       "      <td>0.048780</td>\n",
       "      <td>0.153132</td>\n",
       "      <td>0.094274</td>\n",
       "      <td>0.418182</td>\n",
       "      <td>0.476744</td>\n",
       "      <td>0.451613</td>\n",
       "      <td>2</td>\n",
       "      <td>1</td>\n",
       "    </tr>\n",
       "    <tr>\n",
       "      <th>13</th>\n",
       "      <td>0.269231</td>\n",
       "      <td>0.078431</td>\n",
       "      <td>0.240964</td>\n",
       "      <td>0.013804</td>\n",
       "      <td>0.103858</td>\n",
       "      <td>0.160279</td>\n",
       "      <td>0.310905</td>\n",
       "      <td>0.078851</td>\n",
       "      <td>0.745455</td>\n",
       "      <td>0.348837</td>\n",
       "      <td>0.709677</td>\n",
       "      <td>4</td>\n",
       "      <td>1</td>\n",
       "    </tr>\n",
       "    <tr>\n",
       "      <th>14</th>\n",
       "      <td>0.432692</td>\n",
       "      <td>0.333333</td>\n",
       "      <td>0.373494</td>\n",
       "      <td>0.286043</td>\n",
       "      <td>0.091988</td>\n",
       "      <td>0.135889</td>\n",
       "      <td>0.378190</td>\n",
       "      <td>0.252362</td>\n",
       "      <td>0.236364</td>\n",
       "      <td>0.523256</td>\n",
       "      <td>0.274194</td>\n",
       "      <td>2</td>\n",
       "      <td>1</td>\n",
       "    </tr>\n",
       "    <tr>\n",
       "      <th>15</th>\n",
       "      <td>0.269231</td>\n",
       "      <td>0.088235</td>\n",
       "      <td>0.228916</td>\n",
       "      <td>0.013804</td>\n",
       "      <td>0.068249</td>\n",
       "      <td>0.090592</td>\n",
       "      <td>0.238979</td>\n",
       "      <td>0.082707</td>\n",
       "      <td>0.481818</td>\n",
       "      <td>0.383721</td>\n",
       "      <td>0.548387</td>\n",
       "      <td>4</td>\n",
       "      <td>1</td>\n",
       "    </tr>\n",
       "    <tr>\n",
       "      <th>16</th>\n",
       "      <td>0.240385</td>\n",
       "      <td>0.392157</td>\n",
       "      <td>0.024096</td>\n",
       "      <td>0.007669</td>\n",
       "      <td>0.109792</td>\n",
       "      <td>0.097561</td>\n",
       "      <td>0.208817</td>\n",
       "      <td>0.109697</td>\n",
       "      <td>0.472727</td>\n",
       "      <td>0.162791</td>\n",
       "      <td>0.258065</td>\n",
       "      <td>3</td>\n",
       "      <td>1</td>\n",
       "    </tr>\n",
       "    <tr>\n",
       "      <th>17</th>\n",
       "      <td>0.230769</td>\n",
       "      <td>0.568627</td>\n",
       "      <td>0.289157</td>\n",
       "      <td>0.009202</td>\n",
       "      <td>0.059347</td>\n",
       "      <td>0.094077</td>\n",
       "      <td>0.153132</td>\n",
       "      <td>0.040293</td>\n",
       "      <td>0.554545</td>\n",
       "      <td>0.197674</td>\n",
       "      <td>0.774194</td>\n",
       "      <td>5</td>\n",
       "      <td>0</td>\n",
       "    </tr>\n",
       "    <tr>\n",
       "      <th>18</th>\n",
       "      <td>0.346154</td>\n",
       "      <td>0.254902</td>\n",
       "      <td>0.253012</td>\n",
       "      <td>0.007669</td>\n",
       "      <td>0.071217</td>\n",
       "      <td>0.052265</td>\n",
       "      <td>0.375870</td>\n",
       "      <td>0.088490</td>\n",
       "      <td>0.363636</td>\n",
       "      <td>0.360465</td>\n",
       "      <td>0.532258</td>\n",
       "      <td>3</td>\n",
       "      <td>1</td>\n",
       "    </tr>\n",
       "    <tr>\n",
       "      <th>19</th>\n",
       "      <td>0.259615</td>\n",
       "      <td>0.225490</td>\n",
       "      <td>0.084337</td>\n",
       "      <td>0.105828</td>\n",
       "      <td>0.103858</td>\n",
       "      <td>0.111498</td>\n",
       "      <td>0.287703</td>\n",
       "      <td>0.161751</td>\n",
       "      <td>0.454545</td>\n",
       "      <td>0.325581</td>\n",
       "      <td>0.241935</td>\n",
       "      <td>2</td>\n",
       "      <td>1</td>\n",
       "    </tr>\n",
       "  </tbody>\n",
       "</table>\n",
       "</div>"
      ],
      "text/plain": [
       "    fixed acidity  volatile acidity  citric acid  residual sugar  chlorides  \\\n",
       "0        0.307692          0.186275     0.216867        0.308282   0.106825   \n",
       "1        0.240385          0.215686     0.204819        0.015337   0.118694   \n",
       "2        0.413462          0.196078     0.240964        0.096626   0.121662   \n",
       "3        0.326923          0.147059     0.192771        0.121166   0.145401   \n",
       "4        0.326923          0.147059     0.192771        0.121166   0.145401   \n",
       "5        0.413462          0.196078     0.240964        0.096626   0.121662   \n",
       "6        0.230769          0.235294     0.096386        0.098160   0.106825   \n",
       "7        0.307692          0.186275     0.216867        0.308282   0.106825   \n",
       "8        0.240385          0.215686     0.204819        0.015337   0.118694   \n",
       "9        0.413462          0.137255     0.259036        0.013804   0.103858   \n",
       "10       0.413462          0.186275     0.246988        0.013037   0.071217   \n",
       "11       0.461538          0.147059     0.240964        0.055215   0.077151   \n",
       "12       0.394231          0.098039     0.222892        0.009202   0.091988   \n",
       "13       0.269231          0.078431     0.240964        0.013804   0.103858   \n",
       "14       0.432692          0.333333     0.373494        0.286043   0.091988   \n",
       "15       0.269231          0.088235     0.228916        0.013804   0.068249   \n",
       "16       0.240385          0.392157     0.024096        0.007669   0.109792   \n",
       "17       0.230769          0.568627     0.289157        0.009202   0.059347   \n",
       "18       0.346154          0.254902     0.253012        0.007669   0.071217   \n",
       "19       0.259615          0.225490     0.084337        0.105828   0.103858   \n",
       "\n",
       "    free sulfur dioxide  total sulfur dioxide   density        pH  sulphates  \\\n",
       "0              0.149826              0.373550  0.267785  0.254545   0.267442   \n",
       "1              0.041812              0.285383  0.132832  0.527273   0.313953   \n",
       "2              0.097561              0.204176  0.154039  0.490909   0.255814   \n",
       "3              0.156794              0.410673  0.163678  0.427273   0.209302   \n",
       "4              0.156794              0.410673  0.163678  0.427273   0.209302   \n",
       "5              0.097561              0.204176  0.154039  0.490909   0.255814   \n",
       "6              0.097561              0.294664  0.150183  0.418182   0.290698   \n",
       "7              0.149826              0.373550  0.267785  0.254545   0.267442   \n",
       "8              0.041812              0.285383  0.132832  0.527273   0.313953   \n",
       "9              0.090592              0.278422  0.128976  0.454545   0.267442   \n",
       "10             0.031359              0.125290  0.071139  0.245455   0.395349   \n",
       "11             0.052265              0.232019  0.146327  0.381818   0.360465   \n",
       "12             0.048780              0.153132  0.094274  0.418182   0.476744   \n",
       "13             0.160279              0.310905  0.078851  0.745455   0.348837   \n",
       "14             0.135889              0.378190  0.252362  0.236364   0.523256   \n",
       "15             0.090592              0.238979  0.082707  0.481818   0.383721   \n",
       "16             0.097561              0.208817  0.109697  0.472727   0.162791   \n",
       "17             0.094077              0.153132  0.040293  0.554545   0.197674   \n",
       "18             0.052265              0.375870  0.088490  0.363636   0.360465   \n",
       "19             0.111498              0.287703  0.161751  0.454545   0.325581   \n",
       "\n",
       "     alcohol  quality  fil  \n",
       "0   0.129032        3    1  \n",
       "1   0.241935        3    1  \n",
       "2   0.338710        3    1  \n",
       "3   0.306452        3    1  \n",
       "4   0.306452        3    1  \n",
       "5   0.338710        3    1  \n",
       "6   0.258065        3    1  \n",
       "7   0.129032        3    1  \n",
       "8   0.241935        3    1  \n",
       "9   0.483871        3    1  \n",
       "10  0.645161        2    1  \n",
       "11  0.274194        2    1  \n",
       "12  0.451613        2    1  \n",
       "13  0.709677        4    1  \n",
       "14  0.274194        2    1  \n",
       "15  0.548387        4    1  \n",
       "16  0.258065        3    1  \n",
       "17  0.774194        5    0  \n",
       "18  0.532258        3    1  \n",
       "19  0.241935        2    1  "
      ]
     },
     "execution_count": 74,
     "metadata": {},
     "output_type": "execute_result"
    }
   ],
   "source": [
    "data.ix[range(20)]"
   ]
  },
  {
   "cell_type": "code",
   "execution_count": 79,
   "metadata": {
    "collapsed": false,
    "deletable": true,
    "editable": true
   },
   "outputs": [],
   "source": [
    "M = LogisticRegression()"
   ]
  },
  {
   "cell_type": "code",
   "execution_count": 82,
   "metadata": {
    "collapsed": false,
    "deletable": true,
    "editable": true
   },
   "outputs": [
    {
     "data": {
      "text/plain": [
       "LogisticRegression(C=1.0, class_weight=None, dual=False, fit_intercept=True,\n",
       "          intercept_scaling=1, max_iter=100, multi_class='ovr', n_jobs=1,\n",
       "          penalty='l2', random_state=None, solver='liblinear', tol=0.0001,\n",
       "          verbose=0, warm_start=False)"
      ]
     },
     "execution_count": 82,
     "metadata": {},
     "output_type": "execute_result"
    }
   ],
   "source": [
    "M.fit(tn_X, tn_Y)"
   ]
  },
  {
   "cell_type": "code",
   "execution_count": 84,
   "metadata": {
    "collapsed": false,
    "deletable": true,
    "editable": true
   },
   "outputs": [],
   "source": [
    "a = M.predict(tt_X)"
   ]
  },
  {
   "cell_type": "code",
   "execution_count": 87,
   "metadata": {
    "collapsed": false,
    "deletable": true,
    "editable": true
   },
   "outputs": [
    {
     "data": {
      "text/plain": [
       "0.73478075776926355"
      ]
     },
     "execution_count": 87,
     "metadata": {},
     "output_type": "execute_result"
    }
   ],
   "source": [
    "np.sum(a == tt_Y) / tt_Y.count()"
   ]
  },
  {
   "cell_type": "code",
   "execution_count": 83,
   "metadata": {
    "collapsed": true,
    "deletable": true,
    "editable": true
   },
   "outputs": [],
   "source": [
    "tt_oracle.to_csv(\"../dat/wine_quality/wine_zeroone_oracle.csv\",index=False,header=None)"
   ]
  },
  {
   "cell_type": "code",
   "execution_count": 84,
   "metadata": {
    "collapsed": true,
    "deletable": true,
    "editable": true
   },
   "outputs": [],
   "source": [
    "tt_X, missing_entry = TestMissingGenerate(tt_X)"
   ]
  },
  {
   "cell_type": "code",
   "execution_count": 85,
   "metadata": {
    "collapsed": true,
    "deletable": true,
    "editable": true
   },
   "outputs": [],
   "source": [
    "tt_X = tt_X.fillna(0)"
   ]
  },
  {
   "cell_type": "code",
   "execution_count": 86,
   "metadata": {
    "collapsed": false,
    "deletable": true,
    "editable": true
   },
   "outputs": [],
   "source": [
    "tt_X.to_csv(\"../dat/wine_quality/wine_zeroone.csv\",index=False,header=None)"
   ]
  },
  {
   "cell_type": "code",
   "execution_count": 87,
   "metadata": {
    "collapsed": false,
    "deletable": true,
    "editable": true
   },
   "outputs": [],
   "source": [
    "tt_imp = Imputation(tt_X,missing_entry)"
   ]
  },
  {
   "cell_type": "code",
   "execution_count": 88,
   "metadata": {
    "collapsed": true,
    "deletable": true,
    "editable": true
   },
   "outputs": [],
   "source": [
    "def calRMSE(result, oracle):\n",
    "    return np.sum((result - oracle.values) ** 2)"
   ]
  },
  {
   "cell_type": "code",
   "execution_count": 89,
   "metadata": {
    "collapsed": false,
    "deletable": true,
    "editable": true
   },
   "outputs": [
    {
     "data": {
      "text/plain": [
       "1650.3400123807216"
      ]
     },
     "execution_count": 89,
     "metadata": {},
     "output_type": "execute_result"
    }
   ],
   "source": [
    "calRMSE(tt_imp,tt_oracle)"
   ]
  },
  {
   "cell_type": "code",
   "execution_count": null,
   "metadata": {
    "collapsed": true,
    "deletable": true,
    "editable": true
   },
   "outputs": [],
   "source": [
    "#CASE1. NON_SCALE\n",
    "#MF         #AF\n",
    "16932450.98 5173595.76  #MISSING_RATE = 0.3\n",
    "44081856.77 13897144.15 #MISSING_RATE = 0.8\n",
    "\n",
    "#CALE2. [0,1]SCALE\n",
    "#MF     #AF\n",
    "578.20  309.47 #MISSING_RATE = 0.3\n",
    "1650.34 333.09 #MISSING_RATE = 0.8\n"
   ]
  }
 ],
 "metadata": {
  "anaconda-cloud": {},
  "kernelspec": {
   "display_name": "Python 2",
   "language": "python",
   "name": "python2"
  },
  "language_info": {
   "codemirror_mode": {
    "name": "ipython",
    "version": 2
   },
   "file_extension": ".py",
   "mimetype": "text/x-python",
   "name": "python",
   "nbconvert_exporter": "python",
   "pygments_lexer": "ipython2",
   "version": "2.7.10"
  }
 },
 "nbformat": 4,
 "nbformat_minor": 1
}
