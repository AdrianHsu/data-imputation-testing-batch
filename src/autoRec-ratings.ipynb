{
 "cells": [
  {
   "cell_type": "code",
   "execution_count": 1,
   "metadata": {
    "collapsed": false
   },
   "outputs": [],
   "source": [
    "import numpy as np\n",
    "import theano\n",
    "import theano.tensor as T\n",
    "import numpy as np\n",
    "import math\n",
    "import matplotlib.pyplot as plt\n",
    "import pandas as pd\n",
    "import sklearn\n",
    "import sklearn.datasets\n",
    "%matplotlib inline"
   ]
  },
  {
   "cell_type": "code",
   "execution_count": 2,
   "metadata": {
    "collapsed": true
   },
   "outputs": [],
   "source": [
    "def get_data(data_size):\n",
    "    ratings = []\n",
    "    path = \"../dat/rec/ml-100k/u.data\"\n",
    "    print(\"Read movie lens 100k data set\")\n",
    "    f = open(path, \"r\")\n",
    "    while (1):\n",
    "        line = f.readline()\n",
    "        if line == \"\":\n",
    "            break\n",
    "        ratings.append(line.split()[0:-1])\n",
    "    f.close()\n",
    "    ratings = np.array(ratings, dtype = np.float32)\n",
    "    # permute the ratings array\n",
    "    ratings = np.random.permutation(ratings)\n",
    "    print(\"Loading data done\")\n",
    "    return ratings"
   ]
  },
  {
   "cell_type": "code",
   "execution_count": 3,
   "metadata": {
    "collapsed": true
   },
   "outputs": [],
   "source": [
    "def load_split_data(data_size, test_p):\n",
    "    # Load data and split into train set, test set randomly.\n",
    "    # test_p is a float between 0 - 1 indicating the portion of data hold out as test set\n",
    "    print(\"split data randomly\")\n",
    "    # Load ratings, data is already permuted in get_data\n",
    "    ratings = get_data(data_size)\n",
    "    nb_users = int(np.max(ratings[:, 0]))\n",
    "    nb_movies = int(np.max(ratings[:, 1]))\n",
    "    # split test/train set\n",
    "    test_size = int(len(ratings) * test_p)\n",
    "    test_ratings = ratings[:test_size]\n",
    "    train_ratings = ratings[test_size:]\n",
    "    # train_ratings is converted into a matrix\n",
    "    train_M = np.zeros((nb_movies, nb_users), dtype = np.float32)\n",
    "    for rating in train_ratings:\n",
    "        train_M[int(rating[1]-1), int(rating[0]-1)] = rating[2]\n",
    "    # save test and train data in case more training is needed on this split\n",
    "#     np.save(\"../dat/rec/\" + data_size + \"_\" + str(int(test_p * 100))+ \"percent_test.npy\", test_ratings)\n",
    "#     np.save(\"../dat/rec/\" + data_size + \"_\" + str(int(test_p * 100))+ \"percent_trainM.npy\", train_M)\n",
    "    # test_ratings is numpy array of user id | item id | rating\n",
    "    # train_M is numpy array with nb_movies rows and nb_users columns, missing entries are filled with zero\n",
    "    return test_ratings, train_M, nb_users, nb_movies, len(train_ratings)"
   ]
  },
  {
   "cell_type": "code",
   "execution_count": 4,
   "metadata": {
    "collapsed": false
   },
   "outputs": [
    {
     "name": "stdout",
     "output_type": "stream",
     "text": [
      "split data randomly\n",
      "Read movie lens 100k data set\n",
      "Loading data done\n"
     ]
    }
   ],
   "source": [
    "test_ratings, train_M, nb_users, nb_movies, k = load_split_data(\"100k\", 0.1)\n",
    "X = train_M\n",
    "X_mask = X.copy()\n",
    "X_mask[X > 0] = 1"
   ]
  },
  {
   "cell_type": "code",
   "execution_count": 17,
   "metadata": {
    "collapsed": false
   },
   "outputs": [],
   "source": [
    "np.random.seed(0)\n",
    "epoch = 3000\n",
    "test_p = 0.1\n",
    "nn_hdim = 4\n",
    "lambda_reg = 0.001\n",
    "epsilon = 1e-4 #learning rate for GD\n",
    "reg_lambda = 0.01\n",
    "nn_input_dim = X.shape[1]\n",
    "nn_output_dim = X.shape[1]\n",
    "L = []"
   ]
  },
  {
   "cell_type": "code",
   "execution_count": 18,
   "metadata": {
    "collapsed": true
   },
   "outputs": [],
   "source": [
    "def sigmoid(x):\n",
    "    return 1.0/(1+np.exp(-x))"
   ]
  },
  {
   "cell_type": "code",
   "execution_count": 19,
   "metadata": {
    "collapsed": false
   },
   "outputs": [],
   "source": [
    "def autoRec(epoch):\n",
    "    Flag = True\n",
    "    W1 = np.random.randn(nn_input_dim, nn_hdim) / np.sqrt(nn_input_dim)\n",
    "    b1 = np.zeros((1, nn_hdim))\n",
    "    W2 = np.random.randn(nn_hdim, nn_output_dim) / np.sqrt(nn_hdim)\n",
    "    b2 = np.zeros((1, nn_output_dim))\n",
    "    z2 = np.zeros((1, nn_output_dim))\n",
    "    L.clear()\n",
    "    for i in range(0, epoch):\n",
    "    #     if i > 600 and Flag:\n",
    "    #         epsilon *= 0.5\n",
    "    #         Flag = False\n",
    "\n",
    "        # Forward propagation\n",
    "\n",
    "        z1 = X.dot(W1) + b1\n",
    "        a1 = sigmoid(z1)\n",
    "        z2 = a1.dot(W2) + b2\n",
    "        loss = np.sum(np.square(X - z2) * X_mask)\n",
    "        loss += (reg_lambda/2) * (1.0/ X.shape[0]) * (np.sum(np.square(W1)) + np.sum(np.square(W2)))\n",
    "        L.append(loss)\n",
    "        if i % 100 == 0:\n",
    "            print(\"Loss: \" + str(loss) + \", Round: \" + str(i))\n",
    "\n",
    "        # Backpropagation\n",
    "        delta3 = (z2 - X) * X_mask\n",
    "        dW2 = (a1.T).dot(delta3)\n",
    "        db2 = np.sum(delta3, axis=0, keepdims=True)\n",
    "        delta2 = delta3.dot(W2.T) * a1 * (1 - a1)\n",
    "        dW1 = np.dot((X * X_mask).T, delta2)\n",
    "        db1 = np.sum(delta2, axis=0)\n",
    "        # Add regularization terms (b1 and b2 don't have regularization terms)\n",
    "        dW2 += reg_lambda * W2\n",
    "        dW1 += reg_lambda * W1\n",
    "\n",
    "        # Gradient descent parameter update\n",
    "        W1 += -epsilon * dW1\n",
    "        b1 += -epsilon * db1\n",
    "        W2 += -epsilon * dW2\n",
    "        b2 += -epsilon * db2\n",
    "    return z2"
   ]
  },
  {
   "cell_type": "code",
   "execution_count": 20,
   "metadata": {
    "collapsed": false
   },
   "outputs": [
    {
     "name": "stdout",
     "output_type": "stream",
     "text": [
      "Loss: 1258516.36708, Round: 0\n",
      "Loss: 252330.714617, Round: 100\n",
      "Loss: 156437.898833, Round: 200\n",
      "Loss: 125645.568793, Round: 300\n",
      "Loss: 111856.102214, Round: 400\n",
      "Loss: 104757.791017, Round: 500\n",
      "Loss: 100744.815639, Round: 600\n",
      "Loss: 98211.317941, Round: 700\n",
      "Loss: 96375.9080995, Round: 800\n",
      "Loss: 94498.4331129, Round: 900\n",
      "Loss: 91899.9839226, Round: 1000\n",
      "Loss: 89385.3414126, Round: 1100\n",
      "Loss: 87459.6644003, Round: 1200\n",
      "Loss: 84579.6054568, Round: 1300\n",
      "Loss: 83033.6959419, Round: 1400\n",
      "Loss: 82474.4239566, Round: 1500\n",
      "Loss: 81075.3812951, Round: 1600\n",
      "Loss: 81424.2125932, Round: 1700\n",
      "Loss: 79930.4443035, Round: 1800\n",
      "Loss: 79494.6546986, Round: 1900\n",
      "Loss: 80849.990674, Round: 2000\n",
      "Loss: 78803.9962523, Round: 2100\n",
      "Loss: 78010.416592, Round: 2200\n",
      "Loss: 78359.7062953, Round: 2300\n",
      "Loss: 78049.5202411, Round: 2400\n",
      "Loss: 78046.2711087, Round: 2500\n",
      "Loss: 76721.7454451, Round: 2600\n",
      "Loss: 76176.9407271, Round: 2700\n",
      "Loss: 75802.4982596, Round: 2800\n",
      "Loss: 75479.0937475, Round: 2900\n"
     ]
    }
   ],
   "source": [
    "res = autoRec(epoch)"
   ]
  },
  {
   "cell_type": "code",
   "execution_count": 21,
   "metadata": {
    "collapsed": false
   },
   "outputs": [
    {
     "data": {
      "text/plain": [
       "[<matplotlib.lines.Line2D at 0x10cb43278>]"
      ]
     },
     "execution_count": 21,
     "metadata": {},
     "output_type": "execute_result"
    },
    {
     "data": {
      "image/png": "[encoded data removed]",
      "text/plain": [
       "<matplotlib.figure.Figure at 0x10df36320>"
      ]
     },
     "metadata": {},
     "output_type": "display_data"
    }
   ],
   "source": [
    "plt.plot(L)"
   ]
  },
  {
   "cell_type": "code",
   "execution_count": 11,
   "metadata": {
    "collapsed": true
   },
   "outputs": [],
   "source": [
    "# end of rec data"
   ]
  }
 ],
 "metadata": {
  "anaconda-cloud": {},
  "kernelspec": {
   "display_name": "Python 3",
   "language": "python",
   "name": "python3"
  },
  "language_info": {
   "codemirror_mode": {
    "name": "ipython",
    "version": 3
   },
   "file_extension": ".py",
   "mimetype": "text/x-python",
   "name": "python",
   "nbconvert_exporter": "python",
   "pygments_lexer": "ipython3",
   "version": "3.5.0"
  }
 },
 "nbformat": 4,
 "nbformat_minor": 1
}
