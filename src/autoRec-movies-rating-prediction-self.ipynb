{
 "cells": [
  {
   "cell_type": "code",
   "execution_count": 1,
   "metadata": {
    "collapsed": false
   },
   "outputs": [],
   "source": [
    "import numpy as np\n",
    "import math\n",
    "import matplotlib\n",
    "import matplotlib.pyplot as plt\n",
    "from sklearn.preprocessing import MinMaxScaler,scale\n",
    "import pandas as pd\n",
    "\n",
    "%matplotlib inline"
   ]
  },
  {
   "cell_type": "code",
   "execution_count": 2,
   "metadata": {
    "collapsed": false
   },
   "outputs": [],
   "source": [
    "def get_data(size):\n",
    "    ratings = []\n",
    "    if size == \"100k\":\n",
    "        path = \"../dat/rec/ml-100k/u.data\"\n",
    "        print(\"Read movie lens 100k data set\")\n",
    "        f = open(path, \"r\")\n",
    "        while (1):\n",
    "            line = f.readline()\n",
    "            if line == \"\":\n",
    "                break\n",
    "            ratings.append(line.split()[0:-1])\n",
    "        f.close()\n",
    "    ratings = np.array(ratings, dtype = np.float32)\n",
    "    # permute the ratings array\n",
    "    ratings = np.random.permutation(ratings)\n",
    "    print(\"Loading data done\")\n",
    "    return ratings"
   ]
  },
  {
   "cell_type": "code",
   "execution_count": 3,
   "metadata": {
    "collapsed": false
   },
   "outputs": [
    {
     "name": "stdout",
     "output_type": "stream",
     "text": [
      "Read movie lens 100k data set\n",
      "Loading data done\n"
     ]
    }
   ],
   "source": [
    "ratings = get_data(\"100k\")"
   ]
  },
  {
   "cell_type": "code",
   "execution_count": 4,
   "metadata": {
    "collapsed": false
   },
   "outputs": [
    {
     "data": {
      "text/plain": [
       "(100000, 3)"
      ]
     },
     "execution_count": 4,
     "metadata": {},
     "output_type": "execute_result"
    }
   ],
   "source": [
    "ratings.shape"
   ]
  },
  {
   "cell_type": "code",
   "execution_count": 5,
   "metadata": {
    "collapsed": true
   },
   "outputs": [],
   "source": [
    "def load_split_data(data_size, test_p):\n",
    "    # Load data and split into train set, test set randomly.\n",
    "    # data_size is either \"100k\", \"1m\", \"10m\" or \"20m\".\n",
    "    # test_p is a float between 0 - 1 indicating the portion of data hold out as test set\n",
    "    print(\"split data randomly\")\n",
    "    # Load ratings, data is already permuted in get_data\n",
    "    ratings = get_data(data_size)\n",
    "    nb_users = int(np.max(ratings[:, 0]))\n",
    "    nb_movies = int(np.max(ratings[:, 1]))\n",
    "    # split test/train set\n",
    "    test_size = int(len(ratings) * test_p)\n",
    "    test_ratings = ratings[:test_size]\n",
    "    train_ratings = ratings[test_size:]\n",
    "    # train_ratings is converted into a matrix\n",
    "    train_M = np.zeros((nb_movies, nb_users), dtype = np.float32)\n",
    "    for rating in train_ratings:\n",
    "        train_M[int(rating[1]-1), int(rating[0]-1)] = rating[2]\n",
    "    # save test and train data in case more training is needed on this split\n",
    "    np.save(\"../dat/rec/\" + data_size + \"_\" + str(int(test_p * 100))+ \"percent_test.npy\", test_ratings)\n",
    "    np.save(\"../dat/rec/\" + data_size + \"_\" + str(int(test_p * 100))+ \"percent_trainM.npy\", train_M)\n",
    "    # test_ratings is numpy array of user id | item id | rating\n",
    "    # train_M is numpy array with nb_movies rows and nb_users columns, missing entries are filled with zero\n",
    "    return test_ratings, train_M, nb_users, nb_movies, len(train_ratings)\n"
   ]
  },
  {
   "cell_type": "code",
   "execution_count": 6,
   "metadata": {
    "collapsed": true
   },
   "outputs": [],
   "source": [
    "# def cal_RMSE(prediction_M, test_ratings):\n",
    "#     RMSE = 0\n",
    "#     for rating in test_ratings:\n",
    "#         RMSE += (rating[2] - prediction_M[int(rating[1] - 1), int(rating[0] - 1)])**2\n",
    "#     RMSE = math.sqrt(RMSE / len(test_ratings))\n",
    "#     return RMSE"
   ]
  },
  {
   "cell_type": "code",
   "execution_count": 7,
   "metadata": {
    "collapsed": false
   },
   "outputs": [
    {
     "name": "stdout",
     "output_type": "stream",
     "text": [
      "split data randomly\n",
      "Read movie lens 100k data set\n",
      "Loading data done\n"
     ]
    }
   ],
   "source": [
    "nb_epoch = 10\n",
    "test_p = 0.1\n",
    "nb_hunits = 10\n",
    "lambda_reg = 0.001\n",
    "epsilon = 0.01 #learningrate\n",
    "reg_lambda = 0.01\n",
    "data_size = \"100k\"\n",
    "test_ratings, train_M, nb_users, nb_movies, k = load_split_data(data_size, test_p)\n",
    "prediction_M = np.zeros((nb_movies, nb_users), dtype = np.float32) # 1682 x 943\n",
    "RMSE_list = [0] * nb_epoch # 1 x 10"
   ]
  },
  {
   "cell_type": "code",
   "execution_count": 8,
   "metadata": {
    "collapsed": true
   },
   "outputs": [],
   "source": [
    "def sigmoid(x):\n",
    "    return 1 / (1 + np.exp(-x))"
   ]
  },
  {
   "cell_type": "code",
   "execution_count": 69,
   "metadata": {
    "collapsed": false
   },
   "outputs": [],
   "source": [
    "def train(X, X_observed, update_matrix):\n",
    "\n",
    "    W1 = np.random.randn(nb_users, nb_hunits) # 943 x 10\n",
    "    b1 = np.zeros((1, nb_hunits)) # 1 x 10\n",
    "    W2 = np.random.randn(nb_hunits, nb_users) # 10 x 943\n",
    "    b2 = np.zeros((1, nb_users)) # 1 x 943\n",
    "    a2 = np.zeros((nb_movies, nb_users)) # 1682 x 943\n",
    "    \n",
    "    for i in range(0, nb_epoch):\n",
    "\n",
    "        z1 = X.dot(W1) + b1 # 1682x943 dot 943x10\n",
    "        a1 = sigmoid(z1) # 1682x10\n",
    "        z2 = a1.dot(W2) + b2 #1682x10 dot 10x943\n",
    "        a2 = sigmoid(z2) #1682x943\n",
    "        tmp1 = np.sum(np.square(W1))\n",
    "        tmp2 = np.sum(np.square(W2))\n",
    "        loss_reg = (1.0/nb_movies) * (lambda_reg/2) * ( tmp1 + tmp2 )\n",
    "        loss = np.sum( np.square((X - a2) * X_observed) ) + loss_reg\n",
    "\n",
    "        # Backpropagation\n",
    "        delta2 = (a2 * (1 - a2)) * (a2 - X) # 1682x943\n",
    "        \n",
    "        dW2 = (a1.T).dot(delta2) # 10x943\n",
    "        db2 = np.sum(delta2, axis=0, keepdims=True) # 1x943\n",
    "        delta1 = (a1 * (1 - a1)) * (delta2.dot(W2.T)) # 1682x943\n",
    "        dW1 = (X.T).dot(delta1) # 943x10\n",
    "        db1 = np.sum(delta1, axis=0) # 1x10\n",
    "        # Add regularization terms (b1 and b2 don't have regularization terms)\n",
    "        dW2 += reg_lambda * W2\n",
    "        dW1 += reg_lambda * W1\n",
    "        \n",
    "        # Gradient descent parameter update\n",
    "        # original: 943x10 * 943x10\n",
    "        W1 += -epsilon * dW1# 943x1682 * 943x10\n",
    "        b1 += -epsilon * db1\n",
    "        W2 += -epsilon * dW2\n",
    "        b2 += -epsilon * db2\n",
    "    return a2"
   ]
  },
  {
   "cell_type": "code",
   "execution_count": 70,
   "metadata": {
    "collapsed": false
   },
   "outputs": [],
   "source": [
    "def train_auto():\n",
    "        \n",
    "    Ri = train_M[:] # (1682, 943)\n",
    "    Ri_observed = Ri.copy()\n",
    "    Ri_observed[Ri > 0] = 1 # (1682, 943)\n",
    "    update_m = Ri_observed # \n",
    "    Ri_predicted = train(Ri, Ri_observed, update_m)\n",
    "    prediction_M = Ri_predicted\n",
    "#         RMSE_list[j] = cal_RMSE(prediction_M, test_ratings)\n",
    "    print(\"training complete\")\n",
    "    return train_M, prediction_M"
   ]
  },
  {
   "cell_type": "code",
   "execution_count": 71,
   "metadata": {
    "collapsed": false,
    "scrolled": true
   },
   "outputs": [
    {
     "name": "stdout",
     "output_type": "stream",
     "text": [
      "[[  6.05082152e+01   4.28619921e+01   6.02955418e+01 ...,   4.38454923e+01\n",
      "    2.71365649e+01   6.37797658e+01]\n",
      " [  1.07823197e+01   7.36226555e-01   4.16202724e+00 ...,   1.44297749e+01\n",
      "    3.72366606e+00   1.71945999e+01]\n",
      " [  1.55281626e+01   1.40983470e+00   1.16591041e+01 ...,   8.03604003e+00\n",
      "    1.44556853e+01   1.40157659e+01]\n",
      " ..., \n",
      " [ -3.63673108e-01   5.55906311e+00  -9.27876264e+00 ...,   1.21349813e-02\n",
      "    7.44944510e-01   2.76512334e+00]\n",
      " [  7.19870652e+00   5.77269565e+00  -7.05712250e+00 ...,   3.71419063e+01\n",
      "    8.69303422e+00   1.44579425e+01]\n",
      " [  1.63492770e+01   2.64801663e+01   6.76429866e+01 ...,   8.34515649e+00\n",
      "    1.78900142e+01   1.15489663e+01]]\n",
      "[[ -4.25472951e-03   1.39775317e+01  -2.03320291e+00 ...,   2.84760775e+00\n",
      "   -7.31714964e+00  -1.02044741e+00]\n",
      " [  1.90494716e-02   3.25002904e+01  -1.30437132e-03 ...,  -8.56833124e-03\n",
      "   -9.39048349e-02  -7.73324313e-03]\n",
      " [ -6.42918766e-02  -1.01425537e+00  -4.57399983e-04 ...,  -2.68079631e-02\n",
      "   -1.37727653e-01  -1.15621979e-01]\n",
      " ..., \n",
      " [ -3.52353672e-43  -1.15769226e-11  -1.05310812e-24 ...,   6.55884357e+00\n",
      "    8.65256778e-12  -3.12877100e-37]\n",
      " [ -2.98577883e-07   1.63774604e+01   6.35856120e-07 ...,  -2.03282290e-01\n",
      "   -4.79751944e-01  -8.93415689e-07]\n",
      " [ -4.38511509e-06   5.18235074e+00  -3.27263012e-06 ...,   3.24415949e+00\n",
      "   -3.57081626e-03  -3.84402171e-03]]\n"
     ]
    },
    {
     "name": "stderr",
     "output_type": "stream",
     "text": [
      "/Library/Frameworks/Python.framework/Versions/3.5/lib/python3.5/site-packages/ipykernel/__main__.py:2: RuntimeWarning: overflow encountered in exp\n",
      "  from ipykernel import kernelapp as app\n"
     ]
    },
    {
     "name": "stdout",
     "output_type": "stream",
     "text": [
      "[[ -3.09888945e-03  -1.22484762e+00   2.95657344e+00 ...,   2.77190835e+00\n",
      "    1.17693756e+00  -9.75660542e-01]\n",
      " [  1.47141099e-02   1.93452285e+00  -2.95590248e-04 ...,  -4.05398104e-03\n",
      "   -1.51201895e-02  -2.30583619e-02]\n",
      " [ -2.57407286e-01   2.18449201e+00   2.97252809e-05 ...,   1.12266658e-03\n",
      "   -3.58105706e-04  -7.57002550e-01]\n",
      " ..., \n",
      " [ -5.17835069e-43   4.27079351e-14  -1.86275587e-25 ...,   4.05730897e-15\n",
      "    1.23085349e-16  -7.46847701e-37]\n",
      " [ -3.01881102e-07  -1.06503800e+00   5.20907997e-07 ...,  -6.64796867e-04\n",
      "   -7.25837980e-02  -4.94831583e-06]\n",
      " [ -3.67935704e-06   4.73716358e+00  -1.10176118e-06 ...,  -1.32095979e+00\n",
      "   -1.91005792e-03  -9.61145683e-03]]\n",
      "[[ -3.06466385e-03  -3.57548092e+00  -1.50165395e-01 ...,  -1.91549939e+00\n",
      "   -1.68814655e+00  -1.09887879e+00]\n",
      " [  1.04075313e-02  -3.82389402e-01  -1.52736016e-04 ...,  -2.66231687e-03\n",
      "   -9.12967505e-03  -4.18286040e-02]\n",
      " [ -1.60942375e-01  -1.27974270e+00   5.96654782e-05 ...,   8.29020205e-02\n",
      "   -9.06816005e-05   8.73417592e-02]\n",
      " ..., \n",
      " [ -3.14497841e-43  -2.60544380e-15  -1.26306799e-26 ...,   7.58350188e-17\n",
      "    1.48162236e-23  -1.15950641e-36]\n",
      " [ -1.99628791e-07  -2.98227607e+00   4.82732829e-07 ...,  -2.12100943e-04\n",
      "   -3.99460137e-04  -7.40065454e-06]\n",
      " [ -3.14128296e-06   2.18258422e+00  -4.90817516e-07 ...,  -2.28228512e-01\n",
      "    2.83903342e-02  -1.34287987e-02]]\n",
      "[[ -3.71519615e-03  -1.52087870e+01  -9.76682444e-02 ...,   1.16331722e+00\n",
      "   -4.43090633e+00  -8.85533602e-01]\n",
      " [  7.26544864e-03  -4.56849408e+00  -6.79530684e-05 ...,  -1.93431615e-03\n",
      "   -6.09883543e-03  -1.06307916e-01]\n",
      " [ -2.93574974e-01  -2.02262239e-01   3.57875763e-05 ...,   6.91856842e-02\n",
      "   -7.84889955e-05  -3.45325030e-02]\n",
      " ..., \n",
      " [ -8.28154319e-43   5.22044443e-07  -4.04373229e-27 ...,   2.18424077e-16\n",
      "   -2.84496297e-30  -3.71427615e-36]\n",
      " [ -3.62090777e-07  -4.51789005e-01   2.69090599e-07 ...,  -1.57108245e-04\n",
      "   -9.72073023e-05  -1.34096686e-05]\n",
      " [ -3.37240677e-06   4.63766688e-01  -4.02839276e-07 ...,  -1.85821111e-01\n",
      "    8.37773258e-01  -2.18358947e-02]]\n",
      "[[ -2.62024446e-03  -6.47588917e+00  -6.23910434e-02 ...,   1.77654894e+00\n",
      "   -8.01677533e-01  -4.17211964e-01]\n",
      " [  4.01121569e-03  -1.72077796e+00  -1.65868796e-05 ...,  -1.17957809e-03\n",
      "   -5.87847471e-03  -2.17786233e-01]\n",
      " [ -1.56729776e-01  -1.62097793e+00   3.31134820e-05 ...,   7.08861919e-02\n",
      "   -5.95998880e-05   2.62354917e-01]\n",
      " ..., \n",
      " [ -1.22821980e-42   9.67333220e+00   3.31628053e-29 ...,   2.99921540e-16\n",
      "    3.57155199e-31  -6.45397025e-35]\n",
      " [ -5.37206013e-07  -2.29598480e+00   7.05390929e-07 ...,  -1.52932026e-04\n",
      "   -1.21384290e-04  -2.99981626e-05]\n",
      " [ -2.86496170e-06   6.16706773e+01  -7.45987606e-08 ...,  -2.17622146e-01\n",
      "   -1.64580706e-01  -3.38466973e-02]]\n",
      "[[ -3.77147905e-03  -5.68467509e+01  -8.44391052e-02 ...,   4.49871479e-01\n",
      "    4.15340479e+00   2.59758213e-01]\n",
      " [  2.93860238e-03   4.55453013e-02   1.71023208e-05 ...,  -8.48856269e-04\n",
      "   -4.16596171e-03  -3.94526649e-01]\n",
      " [  2.62597054e-01  -4.32566172e+00   4.25677727e-05 ...,   4.93778122e-02\n",
      "   -7.35540870e-05   3.34816612e-01]\n",
      " ..., \n",
      " [ -1.83132796e-42  -3.04764011e-02  -4.19849496e-27 ...,   7.56524105e-16\n",
      "    1.71768907e-29  -7.05689597e-34]\n",
      " [ -6.54822434e-07  -1.03043900e+01   5.49319206e-07 ...,  -9.59018639e-05\n",
      "   -3.55246351e-04  -5.24325588e-05]\n",
      " [ -2.08251834e-06  -2.72574519e-01  -4.98547670e-08 ...,  -3.57121398e-01\n",
      "   -1.33853264e+00  -6.98249856e-02]]\n",
      "[[ -2.12797752e-03   1.97677730e+02   3.28342596e-02 ...,  -1.00825834e+00\n",
      "   -6.50737917e+00   5.08893914e-01]\n",
      " [  3.51043675e-03   1.39625069e+01   3.72391876e-06 ...,  -8.65014362e-04\n",
      "   -3.07403063e-03  -5.14007701e-01]\n",
      " [  2.45488919e-02   2.27892813e+01   3.61690499e-05 ...,   3.53936295e-02\n",
      "   -6.63489493e-05   2.77548322e-01]\n",
      " ..., \n",
      " [ -7.36591765e-43   4.38990360e+00  -1.65831104e-26 ...,   6.90889512e-16\n",
      "    1.27791044e-29   4.01118454e-33]\n",
      " [ -2.61927629e-07   1.47076648e+02   2.93004456e-07 ...,   3.29475367e-04\n",
      "   -1.84488696e-04  -1.41837240e-05]\n",
      " [ -1.42921834e-06   1.25599769e+02  -1.87603376e-07 ...,  -3.84905633e-01\n",
      "   -3.79089297e+00  -1.46733002e-01]]\n",
      "[[ -7.52796550e-03  -3.80212675e+00  -1.27970506e-01 ...,  -1.54253361e+00\n",
      "   -7.69313652e+00  -9.72123867e-01]\n",
      " [  1.52462393e-03  -4.12628484e-01   3.88821082e-05 ...,  -6.59796242e-04\n",
      "   -7.85405859e-04  -5.14810942e+00]\n",
      " [ -7.64151661e-01  -5.25366400e-02  -5.27378218e-06 ...,   2.16192491e-02\n",
      "   -1.61793450e-04  -2.20880491e-01]\n",
      " ..., \n",
      " [ -2.15553412e-42  -1.50015793e-99  -1.38492258e-26 ...,   2.00551866e-15\n",
      "    4.76774014e-28  -1.87735233e-32]\n",
      " [ -7.91302581e-07  -7.46065900e-12   3.33824699e-07 ...,  -9.09762215e-04\n",
      "   -2.51391470e-04  -6.43820755e-05]\n",
      " [ -4.44974332e-06  -4.33075187e+00  -6.09255176e-07 ...,  -6.40158170e-01\n",
      "    5.42225239e-02  -7.79381153e-01]]\n",
      "[[ -6.25022896e-03  -3.16886063e+01  -1.15743424e-01 ...,   2.44062506e+00\n",
      "    9.88797889e-02   2.47441067e-01]\n",
      " [  1.35301634e-03  -1.07054838e+01  -1.24316647e-05 ...,  -7.01071886e-04\n",
      "   -2.06243576e-03   8.62971596e-01]\n",
      " [  1.20410066e+00  -2.28887623e-06   1.08660705e-05 ...,   3.70195789e-03\n",
      "   -9.29040957e-05  -1.69259243e-02]\n",
      " ..., \n",
      " [ -1.12707939e-41  -2.80623107e-84  -7.83392243e-27 ...,   8.12238832e-14\n",
      "    8.39595629e-26   8.16668277e-28]\n",
      " [ -1.39117970e-06  -3.17556485e-02   1.27964039e-07 ...,  -3.97561709e-04\n",
      "   -1.37352497e-03  -1.99091344e-03]\n",
      " [ -8.86566929e-07  -3.31653006e-01  -1.06312482e-09 ...,  -5.09231293e+00\n",
      "    3.18986557e-04  -3.53855971e+00]]\n",
      "training complete\n"
     ]
    }
   ],
   "source": [
    "train_M, prediction_M = train_auto()"
   ]
  },
  {
   "cell_type": "code",
   "execution_count": 67,
   "metadata": {
    "collapsed": false
   },
   "outputs": [
    {
     "data": {
      "text/plain": [
       "array([[ 0.93552249,  0.14048842,  0.11097011, ...,  0.0328798 ,\n",
       "         0.1934255 ,  0.77290839],\n",
       "       [ 0.93552249,  0.14048842,  0.11097011, ...,  0.0328798 ,\n",
       "         0.1934255 ,  0.77290839],\n",
       "       [ 0.93552249,  0.14048842,  0.11097011, ...,  0.0328798 ,\n",
       "         0.1934255 ,  0.77290839],\n",
       "       ..., \n",
       "       [ 0.08228944,  0.03945425,  0.02518361, ...,  0.01691384,\n",
       "         0.1055227 ,  0.1257709 ],\n",
       "       [ 0.34202702,  0.00873126,  0.02520701, ...,  0.00165235,\n",
       "         0.19778126,  0.29909253],\n",
       "       [ 0.33107055,  0.01536374,  0.02858034, ...,  0.00171951,\n",
       "         0.17247391,  0.4392191 ]])"
      ]
     },
     "execution_count": 67,
     "metadata": {},
     "output_type": "execute_result"
    }
   ],
   "source": [
    "prediction_M"
   ]
  },
  {
   "cell_type": "code",
   "execution_count": 68,
   "metadata": {
    "collapsed": false
   },
   "outputs": [
    {
     "data": {
      "text/plain": [
       "array([[ 5.,  4.,  0., ...,  5.,  0.,  0.],\n",
       "       [ 3.,  0.,  0., ...,  0.,  0.,  5.],\n",
       "       [ 4.,  0.,  0., ...,  0.,  0.,  0.],\n",
       "       ..., \n",
       "       [ 0.,  0.,  0., ...,  0.,  0.,  0.],\n",
       "       [ 0.,  0.,  0., ...,  0.,  0.,  0.],\n",
       "       [ 0.,  0.,  0., ...,  0.,  0.,  0.]], dtype=float32)"
      ]
     },
     "execution_count": 68,
     "metadata": {},
     "output_type": "execute_result"
    }
   ],
   "source": [
    "train_M"
   ]
  },
  {
   "cell_type": "code",
   "execution_count": null,
   "metadata": {
    "collapsed": false
   },
   "outputs": [],
   "source": [
    "# np.tile(np.array([2,1]), 3) # stands for repeat\n",
    "# t = np.tile(np.array([2,1]), [10, 1])\n",
    "# t2 = t.copy()\n",
    "# t2[t == 1] = 52"
   ]
  },
  {
   "cell_type": "code",
   "execution_count": 49,
   "metadata": {
    "collapsed": false
   },
   "outputs": [],
   "source": [
    "# a = np.array([[2,1], [10, 1]])#2,2\n",
    "# b = np.array([[3,4],[4, 4])#2,1\n",
    "# a * b"
   ]
  },
  {
   "cell_type": "code",
   "execution_count": null,
   "metadata": {
    "collapsed": true
   },
   "outputs": [],
   "source": []
  }
 ],
 "metadata": {
  "kernelspec": {
   "display_name": "Python 3",
   "language": "python",
   "name": "python3"
  },
  "language_info": {
   "codemirror_mode": {
    "name": "ipython",
    "version": 3
   },
   "file_extension": ".py",
   "mimetype": "text/x-python",
   "name": "python",
   "nbconvert_exporter": "python",
   "pygments_lexer": "ipython3",
   "version": "3.5.0"
  }
 },
 "nbformat": 4,
 "nbformat_minor": 1
}
