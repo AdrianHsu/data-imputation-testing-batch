{
 "cells": [
  {
   "cell_type": "code",
   "execution_count": 35,
   "metadata": {
    "collapsed": false
   },
   "outputs": [],
   "source": [
    "import pandas as pd\n",
    "import numpy as np\n",
    "import sklearn\n",
    "from sklearn.linear_model import LogisticRegression\n",
    "from sklearn.decomposition import NMF\n",
    "from sklearn.svm import SVC\n",
    "from sklearn.preprocessing import MinMaxScaler,scale\n",
    "#import cPickle"
   ]
  },
  {
   "cell_type": "code",
   "execution_count": 45,
   "metadata": {
    "collapsed": false
   },
   "outputs": [],
   "source": [
    "TRAINING_RATE = 0.8\n",
    "TESTING_RATE = 1 - TRAINING_RATE\n",
    "MISSING_RATE = 0.5\n",
    "QUERY_RATE = 0.2\n",
    "np.random.seed(10)"
   ]
  },
  {
   "cell_type": "code",
   "execution_count": 46,
   "metadata": {
    "collapsed": false
   },
   "outputs": [],
   "source": [
    "d = pd.read_csv(\"../dat/ozone-level-detection/ozone-onehr.csv\",sep=',',header=None)"
   ]
  },
  {
   "cell_type": "code",
   "execution_count": 50,
   "metadata": {
    "collapsed": false
   },
   "outputs": [],
   "source": [
    "d = d.iloc[np.random.permutation(len(d))]\n",
    "d = d.replace(\"?\", 0.0)\n",
    "d = d.fillna(0.0)\n",
    "t = int(len(d) * TRAINING_RATE)\n",
    "tn_data = d.iloc[0:t,:]\n",
    "tt_data = d.iloc[t:,:]\n",
    "\n",
    "tn_X = tn_data.iloc[:,0:-1]\n",
    "tn_Y = tn_data.iloc[:,-1]\n",
    "tt_X = tt_data.iloc[:,0:-1]\n",
    "tt_Y = tt_data.iloc[:,-1]\n",
    "    "
   ]
  },
  {
   "cell_type": "code",
   "execution_count": 52,
   "metadata": {
    "collapsed": false
   },
   "outputs": [
    {
     "data": {
      "text/html": [
       "<div>\n",
       "<table border=\"1\" class=\"dataframe\">\n",
       "  <thead>\n",
       "    <tr style=\"text-align: right;\">\n",
       "      <th></th>\n",
       "      <th>0</th>\n",
       "      <th>1</th>\n",
       "      <th>2</th>\n",
       "      <th>3</th>\n",
       "      <th>4</th>\n",
       "      <th>5</th>\n",
       "      <th>6</th>\n",
       "      <th>7</th>\n",
       "      <th>8</th>\n",
       "      <th>9</th>\n",
       "      <th>...</th>\n",
       "      <th>63</th>\n",
       "      <th>64</th>\n",
       "      <th>65</th>\n",
       "      <th>66</th>\n",
       "      <th>67</th>\n",
       "      <th>68</th>\n",
       "      <th>69</th>\n",
       "      <th>70</th>\n",
       "      <th>71</th>\n",
       "      <th>72</th>\n",
       "    </tr>\n",
       "  </thead>\n",
       "  <tbody>\n",
       "    <tr>\n",
       "      <th>2257</th>\n",
       "      <td>3</td>\n",
       "      <td>3.1</td>\n",
       "      <td>3.6</td>\n",
       "      <td>2.8</td>\n",
       "      <td>2.6</td>\n",
       "      <td>2.4</td>\n",
       "      <td>2.7</td>\n",
       "      <td>3</td>\n",
       "      <td>4</td>\n",
       "      <td>4.2</td>\n",
       "      <td>...</td>\n",
       "      <td>0.29</td>\n",
       "      <td>8.45</td>\n",
       "      <td>0</td>\n",
       "      <td>5825</td>\n",
       "      <td>11.15</td>\n",
       "      <td>43.75</td>\n",
       "      <td>10185</td>\n",
       "      <td>-35</td>\n",
       "      <td>0.05</td>\n",
       "      <td>0.0</td>\n",
       "    </tr>\n",
       "    <tr>\n",
       "      <th>260</th>\n",
       "      <td>1.6</td>\n",
       "      <td>1</td>\n",
       "      <td>0.8</td>\n",
       "      <td>0.2</td>\n",
       "      <td>0.4</td>\n",
       "      <td>0.3</td>\n",
       "      <td>0.7</td>\n",
       "      <td>1.9</td>\n",
       "      <td>2.1</td>\n",
       "      <td>2</td>\n",
       "      <td>...</td>\n",
       "      <td>0.5</td>\n",
       "      <td>5.69</td>\n",
       "      <td>-0.25</td>\n",
       "      <td>5905</td>\n",
       "      <td>31.7</td>\n",
       "      <td>44.5</td>\n",
       "      <td>10115</td>\n",
       "      <td>30</td>\n",
       "      <td>0</td>\n",
       "      <td>0.0</td>\n",
       "    </tr>\n",
       "    <tr>\n",
       "      <th>1054</th>\n",
       "      <td>1.7</td>\n",
       "      <td>1.6</td>\n",
       "      <td>1.3</td>\n",
       "      <td>1.4</td>\n",
       "      <td>1.7</td>\n",
       "      <td>1.7</td>\n",
       "      <td>1.6</td>\n",
       "      <td>1.5</td>\n",
       "      <td>1.4</td>\n",
       "      <td>1</td>\n",
       "      <td>...</td>\n",
       "      <td>0.09</td>\n",
       "      <td>12.98</td>\n",
       "      <td>1.38</td>\n",
       "      <td>5790</td>\n",
       "      <td>21.1</td>\n",
       "      <td>47.15</td>\n",
       "      <td>10210</td>\n",
       "      <td>-30</td>\n",
       "      <td>0.03</td>\n",
       "      <td>0.0</td>\n",
       "    </tr>\n",
       "    <tr>\n",
       "      <th>435</th>\n",
       "      <td>0.8</td>\n",
       "      <td>0.2</td>\n",
       "      <td>0.1</td>\n",
       "      <td>0.4</td>\n",
       "      <td>0.2</td>\n",
       "      <td>0.2</td>\n",
       "      <td>0.4</td>\n",
       "      <td>0.3</td>\n",
       "      <td>1.4</td>\n",
       "      <td>3.8</td>\n",
       "      <td>...</td>\n",
       "      <td>0.03</td>\n",
       "      <td>7.97</td>\n",
       "      <td>-5.67</td>\n",
       "      <td>5775</td>\n",
       "      <td>-25.4</td>\n",
       "      <td>18.3</td>\n",
       "      <td>10210</td>\n",
       "      <td>30</td>\n",
       "      <td>0</td>\n",
       "      <td>0.0</td>\n",
       "    </tr>\n",
       "    <tr>\n",
       "      <th>305</th>\n",
       "      <td>1.7</td>\n",
       "      <td>1.7</td>\n",
       "      <td>1.2</td>\n",
       "      <td>1.2</td>\n",
       "      <td>1.3</td>\n",
       "      <td>1.9</td>\n",
       "      <td>2.1</td>\n",
       "      <td>4</td>\n",
       "      <td>2.5</td>\n",
       "      <td>2.5</td>\n",
       "      <td>...</td>\n",
       "      <td>0.06</td>\n",
       "      <td>20.62</td>\n",
       "      <td>-8.9</td>\n",
       "      <td>5745</td>\n",
       "      <td>-7.3</td>\n",
       "      <td>19.1</td>\n",
       "      <td>10220</td>\n",
       "      <td>60</td>\n",
       "      <td>0</td>\n",
       "      <td>0.0</td>\n",
       "    </tr>\n",
       "  </tbody>\n",
       "</table>\n",
       "<p>5 rows × 73 columns</p>\n",
       "</div>"
      ],
      "text/plain": [
       "       0    1    2    3    4    5    6    7    8    9  ...     63     64  \\\n",
       "2257    3  3.1  3.6  2.8  2.6  2.4  2.7    3    4  4.2 ...   0.29   8.45   \n",
       "260   1.6    1  0.8  0.2  0.4  0.3  0.7  1.9  2.1    2 ...    0.5   5.69   \n",
       "1054  1.7  1.6  1.3  1.4  1.7  1.7  1.6  1.5  1.4    1 ...   0.09  12.98   \n",
       "435   0.8  0.2  0.1  0.4  0.2  0.2  0.4  0.3  1.4  3.8 ...   0.03   7.97   \n",
       "305   1.7  1.7  1.2  1.2  1.3  1.9  2.1    4  2.5  2.5 ...   0.06  20.62   \n",
       "\n",
       "         65    66     67     68     69   70    71   72  \n",
       "2257      0  5825  11.15  43.75  10185  -35  0.05  0.0  \n",
       "260   -0.25  5905   31.7   44.5  10115   30     0  0.0  \n",
       "1054   1.38  5790   21.1  47.15  10210  -30  0.03  0.0  \n",
       "435   -5.67  5775  -25.4   18.3  10210   30     0  0.0  \n",
       "305    -8.9  5745   -7.3   19.1  10220   60     0  0.0  \n",
       "\n",
       "[5 rows x 73 columns]"
      ]
     },
     "execution_count": 52,
     "metadata": {},
     "output_type": "execute_result"
    }
   ],
   "source": [
    "d.head()"
   ]
  },
  {
   "cell_type": "code",
   "execution_count": 53,
   "metadata": {
    "collapsed": false
   },
   "outputs": [
    {
     "data": {
      "text/plain": [
       "LogisticRegression(C=1.5, class_weight=None, dual=False, fit_intercept=True,\n",
       "          intercept_scaling=1, max_iter=100, multi_class='ovr', n_jobs=1,\n",
       "          penalty='l2', random_state=None, solver='liblinear', tol=0.0001,\n",
       "          verbose=0, warm_start=False)"
      ]
     },
     "execution_count": 53,
     "metadata": {},
     "output_type": "execute_result"
    }
   ],
   "source": [
    "clf = LogisticRegression(C=1.5)\n",
    "clf.fit(tn_X,tn_Y)"
   ]
  },
  {
   "cell_type": "code",
   "execution_count": 54,
   "metadata": {
    "collapsed": false
   },
   "outputs": [
    {
     "data": {
      "text/plain": [
       "0.97370936902485661"
      ]
     },
     "execution_count": 54,
     "metadata": {},
     "output_type": "execute_result"
    }
   ],
   "source": [
    "sum(clf.predict(tn_X) == tn_Y) / float(len(tn_Y))"
   ]
  },
  {
   "cell_type": "code",
   "execution_count": 55,
   "metadata": {
    "collapsed": false
   },
   "outputs": [
    {
     "data": {
      "text/plain": [
       "0.96367112810707456"
      ]
     },
     "execution_count": 55,
     "metadata": {},
     "output_type": "execute_result"
    }
   ],
   "source": [
    "sum(clf.predict(tt_X) == tt_Y) / float(len(tt_Y))"
   ]
  },
  {
   "cell_type": "code",
   "execution_count": null,
   "metadata": {
    "collapsed": true
   },
   "outputs": [],
   "source": []
  }
 ],
 "metadata": {
  "anaconda-cloud": {},
  "kernelspec": {
   "display_name": "Python 3",
   "language": "python",
   "name": "python3"
  },
  "language_info": {
   "codemirror_mode": {
    "name": "ipython",
    "version": 3
   },
   "file_extension": ".py",
   "mimetype": "text/x-python",
   "name": "python",
   "nbconvert_exporter": "python",
   "pygments_lexer": "ipython3",
   "version": "3.5.0"
  }
 },
 "nbformat": 4,
 "nbformat_minor": 1
}
