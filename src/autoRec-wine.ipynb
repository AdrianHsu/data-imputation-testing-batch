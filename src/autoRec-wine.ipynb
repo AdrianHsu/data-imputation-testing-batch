{
 "cells": [
  {
   "cell_type": "code",
   "execution_count": 231,
   "metadata": {
    "collapsed": false
   },
   "outputs": [],
   "source": [
    "import numpy as np\n",
    "import theano\n",
    "import theano.tensor as T\n",
    "import numpy as np\n",
    "import math\n",
    "import matplotlib.pyplot as plt\n",
    "import pandas as pd\n",
    "import sklearn\n",
    "import sklearn.datasets\n",
    "%matplotlib inline"
   ]
  },
  {
   "cell_type": "code",
   "execution_count": 248,
   "metadata": {
    "collapsed": false
   },
   "outputs": [],
   "source": [
    "X = pd.read_csv(\"../dat/wine_quality/wine_zeroone.csv\",header=None).values\n",
    "X_mask = X.copy()\n",
    "X_mask[X != 0] = 1"
   ]
  },
  {
   "cell_type": "code",
   "execution_count": 249,
   "metadata": {
    "collapsed": false
   },
   "outputs": [],
   "source": [
    "epoch = 200\n",
    "test_p = 0.1\n",
    "nn_hdim = 4\n",
    "lambda_reg = 0.001\n",
    "epsilon = 1e-4 #learning rate for GD\n",
    "reg_lambda = 0.01\n",
    "nn_input_dim = X.shape[1]\n",
    "nn_output_dim = X.shape[1]\n",
    "L = []"
   ]
  },
  {
   "cell_type": "code",
   "execution_count": 250,
   "metadata": {
    "collapsed": true
   },
   "outputs": [],
   "source": [
    "def sigmoid(x):\n",
    "    return 1.0/(1+np.exp(-x))"
   ]
  },
  {
   "cell_type": "code",
   "execution_count": 251,
   "metadata": {
    "collapsed": false
   },
   "outputs": [],
   "source": [
    "def autoRec(epoch):\n",
    "    Flag = True\n",
    "    W1 = np.random.randn(nn_input_dim, nn_hdim) / np.sqrt(nn_input_dim)\n",
    "    b1 = np.zeros((1, nn_hdim))\n",
    "    W2 = np.random.randn(nn_hdim, nn_output_dim) / np.sqrt(nn_hdim)\n",
    "    b2 = np.zeros((1, nn_output_dim))\n",
    "    z2 = np.zeros((1, nn_output_dim))\n",
    "    L.clear()\n",
    "    for i in range(0, epoch):\n",
    "    #     if i > 600 and Flag:\n",
    "    #         epsilon *= 0.5\n",
    "    #         Flag = False\n",
    "\n",
    "        # Forward propagation\n",
    "\n",
    "        z1 = X.dot(W1) + b1\n",
    "        a1 = sigmoid(z1)\n",
    "        z2 = a1.dot(W2) + b2\n",
    "        loss = np.sum(np.square(X - z2) * X_mask)\n",
    "        loss += (reg_lambda/2) * (1.0/ X.shape[0]) * (np.sum(np.square(W1)) + np.sum(np.square(W2)))\n",
    "        L.append(loss)\n",
    "        print(\"Loss: \" + str(loss) + \", Round: \" + str(i))\n",
    "\n",
    "        # Backpropagation\n",
    "        delta3 = (z2 - X) * X_mask\n",
    "        dW2 = (a1.T).dot(delta3)\n",
    "        db2 = np.sum(delta3, axis=0, keepdims=True)\n",
    "        delta2 = delta3.dot(W2.T) * (a1 * (1 - a1))\n",
    "        dW1 = np.dot((X * X_mask).T, delta2)\n",
    "        db1 = np.sum(delta2, axis=0)\n",
    "        # Add regularization terms (b1 and b2 don't have regularization terms)\n",
    "        dW2 += reg_lambda * W2\n",
    "        dW1 += reg_lambda * W1\n",
    "\n",
    "        # Gradient descent parameter update\n",
    "        W1 += -epsilon * dW1\n",
    "        b1 += -epsilon * db1\n",
    "        W2 += -epsilon * dW2\n",
    "        b2 += -epsilon * db2\n",
    "    return z2"
   ]
  },
  {
   "cell_type": "code",
   "execution_count": 252,
   "metadata": {
    "collapsed": false
   },
   "outputs": [
    {
     "name": "stdout",
     "output_type": "stream",
     "text": [
      "Loss: 5536.57508954, Round: 0\n",
      "Loss: 2326.9006558, Round: 1\n",
      "Loss: 1094.42590874, Round: 2\n",
      "Loss: 593.073809626, Round: 3\n",
      "Loss: 384.018573522, Round: 4\n",
      "Loss: 295.78908719, Round: 5\n",
      "Loss: 258.272643885, Round: 6\n",
      "Loss: 242.201392593, Round: 7\n",
      "Loss: 235.23535858, Round: 8\n",
      "Loss: 232.144754597, Round: 9\n",
      "Loss: 230.706600846, Round: 10\n",
      "Loss: 229.974222603, Round: 11\n",
      "Loss: 229.543937958, Round: 12\n",
      "Loss: 229.243432995, Round: 13\n",
      "Loss: 228.999091569, Round: 14\n",
      "Loss: 228.779438363, Round: 15\n",
      "Loss: 228.571004354, Round: 16\n",
      "Loss: 228.368019367, Round: 17\n",
      "Loss: 228.168006853, Round: 18\n",
      "Loss: 227.969900037, Round: 19\n",
      "Loss: 227.773235874, Round: 20\n",
      "Loss: 227.577809996, Round: 21\n",
      "Loss: 227.383528947, Round: 22\n",
      "Loss: 227.190346878, Round: 23\n",
      "Loss: 226.99823841, Round: 24\n",
      "Loss: 226.807187008, Round: 25\n",
      "Loss: 226.617179992, Round: 26\n",
      "Loss: 226.428206397, Round: 27\n",
      "Loss: 226.240256055, Round: 28\n",
      "Loss: 226.053319199, Round: 29\n",
      "Loss: 225.867386297, Round: 30\n",
      "Loss: 225.682447974, Round: 31\n",
      "Loss: 225.498494984, Round: 32\n",
      "Loss: 225.315518192, Round: 33\n",
      "Loss: 225.133508566, Round: 34\n",
      "Loss: 224.95245718, Round: 35\n",
      "Loss: 224.772355205, Round: 36\n",
      "Loss: 224.593193907, Round: 37\n",
      "Loss: 224.414964653, Round: 38\n",
      "Loss: 224.237658901, Round: 39\n",
      "Loss: 224.061268205, Round: 40\n",
      "Loss: 223.885784207, Round: 41\n",
      "Loss: 223.711198646, Round: 42\n",
      "Loss: 223.537503345, Round: 43\n",
      "Loss: 223.36469022, Round: 44\n",
      "Loss: 223.192751271, Round: 45\n",
      "Loss: 223.021678588, Round: 46\n",
      "Loss: 222.851464342, Round: 47\n",
      "Loss: 222.682100792, Round: 48\n",
      "Loss: 222.513580277, Round: 49\n",
      "Loss: 222.34589522, Round: 50\n",
      "Loss: 222.179038124, Round: 51\n",
      "Loss: 222.013001572, Round: 52\n",
      "Loss: 221.847778226, Round: 53\n",
      "Loss: 221.683360824, Round: 54\n",
      "Loss: 221.519742184, Round: 55\n",
      "Loss: 221.356915198, Round: 56\n",
      "Loss: 221.194872832, Round: 57\n",
      "Loss: 221.033608129, Round: 58\n",
      "Loss: 220.873114201, Round: 59\n",
      "Loss: 220.713384235, Round: 60\n",
      "Loss: 220.554411488, Round: 61\n",
      "Loss: 220.396189288, Round: 62\n",
      "Loss: 220.238711031, Round: 63\n",
      "Loss: 220.081970183, Round: 64\n",
      "Loss: 219.925960277, Round: 65\n",
      "Loss: 219.770674913, Round: 66\n",
      "Loss: 219.616107757, Round: 67\n",
      "Loss: 219.46225254, Round: 68\n",
      "Loss: 219.309103057, Round: 69\n",
      "Loss: 219.156653167, Round: 70\n",
      "Loss: 219.004896792, Round: 71\n",
      "Loss: 218.853827916, Round: 72\n",
      "Loss: 218.703440584, Round: 73\n",
      "Loss: 218.553728901, Round: 74\n",
      "Loss: 218.404687032, Round: 75\n",
      "Loss: 218.256309203, Round: 76\n",
      "Loss: 218.108589695, Round: 77\n",
      "Loss: 217.961522849, Round: 78\n",
      "Loss: 217.815103063, Round: 79\n",
      "Loss: 217.669324789, Round: 80\n",
      "Loss: 217.524182536, Round: 81\n",
      "Loss: 217.379670869, Round: 82\n",
      "Loss: 217.235784405, Round: 83\n",
      "Loss: 217.092517816, Round: 84\n",
      "Loss: 216.949865826, Round: 85\n",
      "Loss: 216.807823213, Round: 86\n",
      "Loss: 216.666384805, Round: 87\n",
      "Loss: 216.525545481, Round: 88\n",
      "Loss: 216.385300172, Round: 89\n",
      "Loss: 216.245643857, Round: 90\n",
      "Loss: 216.106571566, Round: 91\n",
      "Loss: 215.968078376, Round: 92\n",
      "Loss: 215.830159413, Round: 93\n",
      "Loss: 215.692809851, Round: 94\n",
      "Loss: 215.556024911, Round: 95\n",
      "Loss: 215.419799859, Round: 96\n",
      "Loss: 215.284130008, Round: 97\n",
      "Loss: 215.149010717, Round: 98\n",
      "Loss: 215.014437388, Round: 99\n",
      "Loss: 214.880405468, Round: 100\n",
      "Loss: 214.74691045, Round: 101\n",
      "Loss: 214.613947868, Round: 102\n",
      "Loss: 214.481513298, Round: 103\n",
      "Loss: 214.349602361, Round: 104\n",
      "Loss: 214.218210718, Round: 105\n",
      "Loss: 214.087334071, Round: 106\n",
      "Loss: 213.956968165, Round: 107\n",
      "Loss: 213.827108783, Round: 108\n",
      "Loss: 213.69775175, Round: 109\n",
      "Loss: 213.568892929, Round: 110\n",
      "Loss: 213.440528222, Round: 111\n",
      "Loss: 213.312653571, Round: 112\n",
      "Loss: 213.185264956, Round: 113\n",
      "Loss: 213.058358392, Round: 114\n",
      "Loss: 212.931929935, Round: 115\n",
      "Loss: 212.805975677, Round: 116\n",
      "Loss: 212.680491744, Round: 117\n",
      "Loss: 212.5554743, Round: 118\n",
      "Loss: 212.430919546, Round: 119\n",
      "Loss: 212.306823716, Round: 120\n",
      "Loss: 212.183183079, Round: 121\n",
      "Loss: 212.059993941, Round: 122\n",
      "Loss: 211.937252639, Round: 123\n",
      "Loss: 211.814955545, Round: 124\n",
      "Loss: 211.693099065, Round: 125\n",
      "Loss: 211.571679637, Round: 126\n",
      "Loss: 211.450693732, Round: 127\n",
      "Loss: 211.330137854, Round: 128\n",
      "Loss: 211.210008539, Round: 129\n",
      "Loss: 211.090302351, Round: 130\n",
      "Loss: 210.971015891, Round: 131\n",
      "Loss: 210.852145787, Round: 132\n",
      "Loss: 210.733688699, Round: 133\n",
      "Loss: 210.615641315, Round: 134\n",
      "Loss: 210.498000357, Round: 135\n",
      "Loss: 210.380762573, Round: 136\n",
      "Loss: 210.263924742, Round: 137\n",
      "Loss: 210.147483672, Round: 138\n",
      "Loss: 210.031436198, Round: 139\n",
      "Loss: 209.915779184, Round: 140\n",
      "Loss: 209.800509525, Round: 141\n",
      "Loss: 209.685624139, Round: 142\n",
      "Loss: 209.571119975, Round: 143\n",
      "Loss: 209.456994006, Round: 144\n",
      "Loss: 209.343243236, Round: 145\n",
      "Loss: 209.229864692, Round: 146\n",
      "Loss: 209.116855428, Round: 147\n",
      "Loss: 209.004212526, Round: 148\n",
      "Loss: 208.891933091, Round: 149\n",
      "Loss: 208.780014256, Round: 150\n",
      "Loss: 208.668453176, Round: 151\n",
      "Loss: 208.557247035, Round: 152\n",
      "Loss: 208.446393039, Round: 153\n",
      "Loss: 208.335888418, Round: 154\n",
      "Loss: 208.225730428, Round: 155\n",
      "Loss: 208.115916348, Round: 156\n",
      "Loss: 208.006443481, Round: 157\n",
      "Loss: 207.897309153, Round: 158\n",
      "Loss: 207.788510713, Round: 159\n",
      "Loss: 207.680045534, Round: 160\n",
      "Loss: 207.571911011, Round: 161\n",
      "Loss: 207.464104561, Round: 162\n",
      "Loss: 207.356623624, Round: 163\n",
      "Loss: 207.249465661, Round: 164\n",
      "Loss: 207.142628157, Round: 165\n",
      "Loss: 207.036108616, Round: 166\n",
      "Loss: 206.929904566, Round: 167\n",
      "Loss: 206.824013553, Round: 168\n",
      "Loss: 206.718433146, Round: 169\n",
      "Loss: 206.613160934, Round: 170\n",
      "Loss: 206.508194528, Round: 171\n",
      "Loss: 206.403531557, Round: 172\n",
      "Loss: 206.299169671, Round: 173\n",
      "Loss: 206.195106541, Round: 174\n",
      "Loss: 206.091339856, Round: 175\n",
      "Loss: 205.987867325, Round: 176\n",
      "Loss: 205.884686677, Round: 177\n",
      "Loss: 205.78179566, Round: 178\n",
      "Loss: 205.679192039, Round: 179\n",
      "Loss: 205.576873601, Round: 180\n",
      "Loss: 205.47483815, Round: 181\n",
      "Loss: 205.373083506, Round: 182\n",
      "Loss: 205.271607512, Round: 183\n",
      "Loss: 205.170408024, Round: 184\n",
      "Loss: 205.06948292, Round: 185\n",
      "Loss: 204.968830093, Round: 186\n",
      "Loss: 204.868447455, Round: 187\n",
      "Loss: 204.768332933, Round: 188\n",
      "Loss: 204.668484475, Round: 189\n",
      "Loss: 204.568900041, Round: 190\n",
      "Loss: 204.469577613, Round: 191\n",
      "Loss: 204.370515186, Round: 192\n",
      "Loss: 204.271710773, Round: 193\n",
      "Loss: 204.173162403, Round: 194\n",
      "Loss: 204.074868121, Round: 195\n",
      "Loss: 203.976825988, Round: 196\n",
      "Loss: 203.879034081, Round: 197\n",
      "Loss: 203.781490493, Round: 198\n",
      "Loss: 203.684193332, Round: 199\n"
     ]
    }
   ],
   "source": [
    "np.random.seed(0)\n",
    "res = autoRec(epoch)"
   ]
  },
  {
   "cell_type": "code",
   "execution_count": 253,
   "metadata": {
    "collapsed": false
   },
   "outputs": [
    {
     "data": {
      "text/plain": [
       "[<matplotlib.lines.Line2D at 0x10e74c668>]"
      ]
     },
     "execution_count": 253,
     "metadata": {},
     "output_type": "execute_result"
    },
    {
     "data": {
      "image/png": "[encoded data removed]",
      "text/plain": [
       "<matplotlib.figure.Figure at 0x10f9980f0>"
      ]
     },
     "metadata": {},
     "output_type": "display_data"
    }
   ],
   "source": [
    "plt.plot(L)"
   ]
  },
  {
   "cell_type": "code",
   "execution_count": 254,
   "metadata": {
    "collapsed": false
   },
   "outputs": [],
   "source": [
    "def calRMSE(result, oracle):\n",
    "    return np.sum((result - oracle.values) ** 2)"
   ]
  },
  {
   "cell_type": "code",
   "execution_count": 255,
   "metadata": {
    "collapsed": false
   },
   "outputs": [
    {
     "data": {
      "text/plain": [
       "309.47549139361553"
      ]
     },
     "execution_count": 255,
     "metadata": {},
     "output_type": "execute_result"
    }
   ],
   "source": [
    "X_oracle = pd.read_csv(\"../dat/wine_quality/wine_zeroone_oracle.csv\",header=None)\n",
    "calRMSE(res, X_oracle)"
   ]
  },
  {
   "cell_type": "code",
   "execution_count": null,
   "metadata": {
    "collapsed": true
   },
   "outputs": [],
   "source": []
  },
  {
   "cell_type": "code",
   "execution_count": null,
   "metadata": {
    "collapsed": true
   },
   "outputs": [],
   "source": []
  }
 ],
 "metadata": {
  "anaconda-cloud": {},
  "kernelspec": {
   "display_name": "Python 3",
   "language": "python",
   "name": "python3"
  },
  "language_info": {
   "codemirror_mode": {
    "name": "ipython",
    "version": 3
   },
   "file_extension": ".py",
   "mimetype": "text/x-python",
   "name": "python",
   "nbconvert_exporter": "python",
   "pygments_lexer": "ipython3",
   "version": "3.5.0"
  }
 },
 "nbformat": 4,
 "nbformat_minor": 1
}
