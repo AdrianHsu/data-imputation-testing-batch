{
 "cells": [
  {
   "cell_type": "code",
   "execution_count": 50,
   "metadata": {
    "collapsed": false
   },
   "outputs": [],
   "source": [
    "import numpy as np\n",
    "import theano\n",
    "import theano.tensor as T\n",
    "import numpy as np\n",
    "import math\n",
    "import matplotlib.pyplot as plt\n",
    "import pandas as pd\n",
    "import sklearn\n",
    "import sklearn.datasets\n",
    "%matplotlib inline"
   ]
  },
  {
   "cell_type": "code",
   "execution_count": 51,
   "metadata": {
    "collapsed": false
   },
   "outputs": [],
   "source": [
    "X = pd.read_csv(\"../dat/wine_quality/wine_zeroone.csv\",header=None).values\n",
    "X_mask = X.copy()\n",
    "X_mask[X != 0] = 1"
   ]
  },
  {
   "cell_type": "code",
   "execution_count": 136,
   "metadata": {
    "collapsed": false
   },
   "outputs": [],
   "source": [
    "epoch = 200\n",
    "test_p = 0.1\n",
    "nn_hdim = 4\n",
    "lambda_reg = 0.001\n",
    "epsilon = 1e-4 #learning rate for GD\n",
    "reg_lambda = 0.01\n",
    "nn_input_dim = X.shape[1]\n",
    "nn_output_dim = X.shape[1]\n",
    "L = []"
   ]
  },
  {
   "cell_type": "code",
   "execution_count": 137,
   "metadata": {
    "collapsed": true
   },
   "outputs": [],
   "source": [
    "def sigmoid(x):\n",
    "    return 1.0/(1+np.exp(-x))"
   ]
  },
  {
   "cell_type": "code",
   "execution_count": 138,
   "metadata": {
    "collapsed": false
   },
   "outputs": [],
   "source": [
    "def autoRec(epoch):\n",
    "    Flag = True\n",
    "    W1 = np.random.randn(nn_input_dim, nn_hdim) / np.sqrt(nn_input_dim)\n",
    "    b1 = np.zeros((1, nn_hdim))\n",
    "    W2 = np.random.randn(nn_hdim, nn_output_dim) / np.sqrt(nn_hdim)\n",
    "    b2 = np.zeros((1, nn_output_dim))\n",
    "    z2 = np.zeros((1, nn_output_dim))\n",
    "    L.clear()\n",
    "    for i in range(0, epoch):\n",
    "    #     if i > 600 and Flag:\n",
    "    #         epsilon *= 0.5\n",
    "    #         Flag = False\n",
    "\n",
    "        # Forward propagation\n",
    "\n",
    "        z1 = X.dot(W1) + b1\n",
    "        a1 = sigmoid(z1)\n",
    "        z2 = a1.dot(W2) + b2\n",
    "        loss = np.sum(np.square(X - z2) * X_mask)\n",
    "        loss += (reg_lambda/2) * (1.0/ X.shape[0]) * (np.sum(np.square(W1)) + np.sum(np.square(W2)))\n",
    "        L.append(loss)\n",
    "        print(\"Loss: \" + str(loss) + \", Round: \" + str(i))\n",
    "\n",
    "        # Backpropagation\n",
    "        delta3 = (z2 - X) * X_mask\n",
    "        dW2 = (a1.T).dot(delta3)\n",
    "        db2 = np.sum(delta3, axis=0, keepdims=True)\n",
    "        delta2 = delta3.dot(W2.T) * (a1 * (1 - a1))\n",
    "        dW1 = np.dot((X * X_mask).T, delta2)\n",
    "        db1 = np.sum(delta2, axis=0)\n",
    "        # Add regularization terms (b1 and b2 don't have regularization terms)\n",
    "        dW2 += reg_lambda * W2\n",
    "        dW1 += reg_lambda * W1\n",
    "\n",
    "        # Gradient descent parameter update\n",
    "        W1 += -epsilon * dW1\n",
    "        b1 += -epsilon * db1\n",
    "        W2 += -epsilon * dW2\n",
    "        b2 += -epsilon * db2\n",
    "    return z2"
   ]
  },
  {
   "cell_type": "code",
   "execution_count": 139,
   "metadata": {
    "collapsed": false
   },
   "outputs": [
    {
     "name": "stdout",
     "output_type": "stream",
     "text": [
      "Loss: 5461.20226631, Round: 0\n",
      "Loss: 2319.98005336, Round: 1\n",
      "Loss: 1100.21149861, Round: 2\n",
      "Loss: 599.142021775, Round: 3\n",
      "Loss: 388.22094733, Round: 4\n",
      "Loss: 298.364186048, Round: 5\n",
      "Loss: 259.794692349, Round: 6\n",
      "Loss: 243.115796481, Round: 7\n",
      "Loss: 235.818104326, Round: 8\n",
      "Loss: 232.5505774, Round: 9\n",
      "Loss: 231.017464974, Round: 10\n",
      "Loss: 230.231998619, Round: 11\n",
      "Loss: 229.769500802, Round: 12\n",
      "Loss: 229.447026949, Round: 13\n",
      "Loss: 229.185705366, Round: 14\n",
      "Loss: 228.951508152, Round: 15\n",
      "Loss: 228.72974311, Round: 16\n",
      "Loss: 228.514059915, Round: 17\n",
      "Loss: 228.301708881, Round: 18\n",
      "Loss: 228.091495161, Round: 19\n",
      "Loss: 227.882895613, Round: 20\n",
      "Loss: 227.675677411, Round: 21\n",
      "Loss: 227.469733277, Round: 22\n",
      "Loss: 227.265010287, Round: 23\n",
      "Loss: 227.061479091, Round: 24\n",
      "Loss: 226.859120608, Round: 25\n",
      "Loss: 226.657920269, Round: 26\n",
      "Loss: 226.457865531, Round: 27\n",
      "Loss: 226.258944796, Round: 28\n",
      "Loss: 226.061146948, Round: 29\n",
      "Loss: 225.864461146, Round: 30\n",
      "Loss: 225.668876739, Round: 31\n",
      "Loss: 225.474383227, Round: 32\n",
      "Loss: 225.28097024, Round: 33\n",
      "Loss: 225.088627531, Round: 34\n",
      "Loss: 224.897344974, Round: 35\n",
      "Loss: 224.707112557, Round: 36\n",
      "Loss: 224.517920382, Round: 37\n",
      "Loss: 224.329758664, Round: 38\n",
      "Loss: 224.142617728, Round: 39\n",
      "Loss: 223.956488007, Round: 40\n",
      "Loss: 223.771360044, Round: 41\n",
      "Loss: 223.587224485, Round: 42\n",
      "Loss: 223.404072081, Round: 43\n",
      "Loss: 223.221893689, Round: 44\n",
      "Loss: 223.040680264, Round: 45\n",
      "Loss: 222.860422864, Round: 46\n",
      "Loss: 222.681112644, Round: 47\n",
      "Loss: 222.502740859, Round: 48\n",
      "Loss: 222.325298858, Round: 49\n",
      "Loss: 222.148778088, Round: 50\n",
      "Loss: 221.973170087, Round: 51\n",
      "Loss: 221.798466487, Round: 52\n",
      "Loss: 221.624659012, Round: 53\n",
      "Loss: 221.451739474, Round: 54\n",
      "Loss: 221.279699778, Round: 55\n",
      "Loss: 221.108531912, Round: 56\n",
      "Loss: 220.938227955, Round: 57\n",
      "Loss: 220.768780069, Round: 58\n",
      "Loss: 220.6001805, Round: 59\n",
      "Loss: 220.432421581, Round: 60\n",
      "Loss: 220.265495723, Round: 61\n",
      "Loss: 220.099395421, Round: 62\n",
      "Loss: 219.934113249, Round: 63\n",
      "Loss: 219.769641861, Round: 64\n",
      "Loss: 219.605973987, Round: 65\n",
      "Loss: 219.443102438, Round: 66\n",
      "Loss: 219.281020097, Round: 67\n",
      "Loss: 219.119719925, Round: 68\n",
      "Loss: 218.959194956, Round: 69\n",
      "Loss: 218.799438298, Round: 70\n",
      "Loss: 218.64044313, Round: 71\n",
      "Loss: 218.482202704, Round: 72\n",
      "Loss: 218.324710342, Round: 73\n",
      "Loss: 218.167959436, Round: 74\n",
      "Loss: 218.011943445, Round: 75\n",
      "Loss: 217.856655899, Round: 76\n",
      "Loss: 217.702090392, Round: 77\n",
      "Loss: 217.548240586, Round: 78\n",
      "Loss: 217.395100208, Round: 79\n",
      "Loss: 217.242663049, Round: 80\n",
      "Loss: 217.090922965, Round: 81\n",
      "Loss: 216.939873875, Round: 82\n",
      "Loss: 216.789509759, Round: 83\n",
      "Loss: 216.639824658, Round: 84\n",
      "Loss: 216.490812677, Round: 85\n",
      "Loss: 216.342467977, Round: 86\n",
      "Loss: 216.19478478, Round: 87\n",
      "Loss: 216.047757368, Round: 88\n",
      "Loss: 215.901380078, Round: 89\n",
      "Loss: 215.755647305, Round: 90\n",
      "Loss: 215.610553503, Round: 91\n",
      "Loss: 215.466093177, Round: 92\n",
      "Loss: 215.322260891, Round: 93\n",
      "Loss: 215.179051262, Round: 94\n",
      "Loss: 215.03645896, Round: 95\n",
      "Loss: 214.894478709, Round: 96\n",
      "Loss: 214.753105286, Round: 97\n",
      "Loss: 214.612333518, Round: 98\n",
      "Loss: 214.472158285, Round: 99\n",
      "Loss: 214.332574516, Round: 100\n",
      "Loss: 214.193577192, Round: 101\n",
      "Loss: 214.055161342, Round: 102\n",
      "Loss: 213.917322044, Round: 103\n",
      "Loss: 213.780054424, Round: 104\n",
      "Loss: 213.643353656, Round: 105\n",
      "Loss: 213.507214962, Round: 106\n",
      "Loss: 213.371633609, Round: 107\n",
      "Loss: 213.236604911, Round: 108\n",
      "Loss: 213.102124227, Round: 109\n",
      "Loss: 212.968186961, Round: 110\n",
      "Loss: 212.834788563, Round: 111\n",
      "Loss: 212.701924524, Round: 112\n",
      "Loss: 212.56959038, Round: 113\n",
      "Loss: 212.437781711, Round: 114\n",
      "Loss: 212.306494138, Round: 115\n",
      "Loss: 212.175723324, Round: 116\n",
      "Loss: 212.045464973, Round: 117\n",
      "Loss: 211.915714832, Round: 118\n",
      "Loss: 211.786468686, Round: 119\n",
      "Loss: 211.657722361, Round: 120\n",
      "Loss: 211.529471724, Round: 121\n",
      "Loss: 211.401712679, Round: 122\n",
      "Loss: 211.27444117, Round: 123\n",
      "Loss: 211.147653178, Round: 124\n",
      "Loss: 211.021344724, Round: 125\n",
      "Loss: 210.895511864, Round: 126\n",
      "Loss: 210.770150693, Round: 127\n",
      "Loss: 210.64525734, Round: 128\n",
      "Loss: 210.520827973, Round: 129\n",
      "Loss: 210.396858794, Round: 130\n",
      "Loss: 210.273346042, Round: 131\n",
      "Loss: 210.150285988, Round: 132\n",
      "Loss: 210.02767494, Round: 133\n",
      "Loss: 209.90550924, Round: 134\n",
      "Loss: 209.783785263, Round: 135\n",
      "Loss: 209.662499418, Round: 136\n",
      "Loss: 209.541648147, Round: 137\n",
      "Loss: 209.421227923, Round: 138\n",
      "Loss: 209.301235255, Round: 139\n",
      "Loss: 209.181666681, Round: 140\n",
      "Loss: 209.06251877, Round: 141\n",
      "Loss: 208.943788126, Round: 142\n",
      "Loss: 208.825471381, Round: 143\n",
      "Loss: 208.707565198, Round: 144\n",
      "Loss: 208.590066271, Round: 145\n",
      "Loss: 208.472971323, Round: 146\n",
      "Loss: 208.356277107, Round: 147\n",
      "Loss: 208.239980407, Round: 148\n",
      "Loss: 208.124078033, Round: 149\n",
      "Loss: 208.008566825, Round: 150\n",
      "Loss: 207.893443653, Round: 151\n",
      "Loss: 207.778705413, Round: 152\n",
      "Loss: 207.664349028, Round: 153\n",
      "Loss: 207.550371452, Round: 154\n",
      "Loss: 207.436769662, Round: 155\n",
      "Loss: 207.323540666, Round: 156\n",
      "Loss: 207.210681495, Round: 157\n",
      "Loss: 207.098189208, Round: 158\n",
      "Loss: 206.986060891, Round: 159\n",
      "Loss: 206.874293653, Round: 160\n",
      "Loss: 206.762884632, Round: 161\n",
      "Loss: 206.651830988, Round: 162\n",
      "Loss: 206.541129908, Round: 163\n",
      "Loss: 206.430778602, Round: 164\n",
      "Loss: 206.320774308, Round: 165\n",
      "Loss: 206.211114283, Round: 166\n",
      "Loss: 206.101795812, Round: 167\n",
      "Loss: 205.992816203, Round: 168\n",
      "Loss: 205.884172785, Round: 169\n",
      "Loss: 205.775862914, Round: 170\n",
      "Loss: 205.667883966, Round: 171\n",
      "Loss: 205.56023334, Round: 172\n",
      "Loss: 205.45290846, Round: 173\n",
      "Loss: 205.345906769, Round: 174\n",
      "Loss: 205.239225734, Round: 175\n",
      "Loss: 205.132862843, Round: 176\n",
      "Loss: 205.026815607, Round: 177\n",
      "Loss: 204.921081557, Round: 178\n",
      "Loss: 204.815658244, Round: 179\n",
      "Loss: 204.710543243, Round: 180\n",
      "Loss: 204.605734148, Round: 181\n",
      "Loss: 204.501228572, Round: 182\n",
      "Loss: 204.397024152, Round: 183\n",
      "Loss: 204.293118542, Round: 184\n",
      "Loss: 204.189509418, Round: 185\n",
      "Loss: 204.086194473, Round: 186\n",
      "Loss: 203.983171422, Round: 187\n",
      "Loss: 203.880437999, Round: 188\n",
      "Loss: 203.777991955, Round: 189\n",
      "Loss: 203.675831064, Round: 190\n",
      "Loss: 203.573953114, Round: 191\n",
      "Loss: 203.472355915, Round: 192\n",
      "Loss: 203.371037294, Round: 193\n",
      "Loss: 203.269995096, Round: 194\n",
      "Loss: 203.169227184, Round: 195\n",
      "Loss: 203.068731441, Round: 196\n",
      "Loss: 202.968505764, Round: 197\n",
      "Loss: 202.86854807, Round: 198\n",
      "Loss: 202.768856293, Round: 199\n"
     ]
    }
   ],
   "source": [
    "np.random.seed(0)\n",
    "res = autoRec(epoch)"
   ]
  },
  {
   "cell_type": "code",
   "execution_count": 140,
   "metadata": {
    "collapsed": false
   },
   "outputs": [
    {
     "data": {
      "text/plain": [
       "[<matplotlib.lines.Line2D at 0x10e13ce10>]"
      ]
     },
     "execution_count": 140,
     "metadata": {},
     "output_type": "execute_result"
    },
    {
     "data": {
      "image/png": "[encoded data removed]",
      "text/plain": [
       "<matplotlib.figure.Figure at 0x10d5e1898>"
      ]
     },
     "metadata": {},
     "output_type": "display_data"
    }
   ],
   "source": [
    "plt.plot(L)"
   ]
  },
  {
   "cell_type": "code",
   "execution_count": 141,
   "metadata": {
    "collapsed": false
   },
   "outputs": [],
   "source": [
    "def calRMSE(result, oracle):\n",
    "    return np.sum((result - oracle.values) ** 2)"
   ]
  },
  {
   "cell_type": "code",
   "execution_count": 142,
   "metadata": {
    "collapsed": false
   },
   "outputs": [
    {
     "data": {
      "text/plain": [
       "304.21668807574838"
      ]
     },
     "execution_count": 142,
     "metadata": {},
     "output_type": "execute_result"
    }
   ],
   "source": [
    "X_oracle = pd.read_csv(\"../dat/wine_quality/wine_zeroone_oracle.csv\",header=None)\n",
    "calRMSE(res, X_oracle)"
   ]
  }
 ],
 "metadata": {
  "anaconda-cloud": {},
  "kernelspec": {
   "display_name": "Python 3",
   "language": "python",
   "name": "python3"
  },
  "language_info": {
   "codemirror_mode": {
    "name": "ipython",
    "version": 3
   },
   "file_extension": ".py",
   "mimetype": "text/x-python",
   "name": "python",
   "nbconvert_exporter": "python",
   "pygments_lexer": "ipython3",
   "version": "3.5.0"
  }
 },
 "nbformat": 4,
 "nbformat_minor": 1
}
