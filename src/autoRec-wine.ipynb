{
 "cells": [
  {
   "cell_type": "code",
   "execution_count": 50,
   "metadata": {
    "collapsed": false
   },
   "outputs": [],
   "source": [
    "import os\n",
    "import numpy as np\n",
    "import theano\n",
    "import theano.tensor as T\n",
    "import numpy as np\n",
    "import math\n",
    "import matplotlib.pyplot as plt\n",
    "import pandas as pd\n",
    "import sklearn\n",
    "import sklearn.datasets\n",
    "%matplotlib inline"
   ]
  },
  {
   "cell_type": "code",
   "execution_count": 51,
   "metadata": {
    "collapsed": false
   },
   "outputs": [],
   "source": [
    "np.random.seed(0)\n",
    "nn_hdim = 4\n",
    "epsilon = 1e-4 # learning rate for gradient descent\n",
    "reg_lambda = 0.01\n",
    "size = \"100k\""
   ]
  },
  {
   "cell_type": "code",
   "execution_count": null,
   "metadata": {
    "collapsed": true
   },
   "outputs": [],
   "source": [
    "def get_data(data_size):\n",
    "    ratings = []\n",
    "    if size == \"100k\":\n",
    "        path = os.path.join(\"Data\", \"ml-100k\", \"u.data\")\n",
    "        print(\"Read movie lens 100k data set\")\n",
    "        f = open(path, \"r\")\n",
    "        while (1):\n",
    "            line = f.readline()\n",
    "            if line == \"\":\n",
    "                break\n",
    "            ratings.append(line.split()[0:-1])\n",
    "        f.close()\n",
    "    if size == \"1m\" or size == \"10m\":\n",
    "        path = os.path.join(\"Data\", \"ml-\" + size, \"ratings.dat\")\n",
    "        print(\"Read movie lens \" + size + \" data set\")\n",
    "        f = open(path, \"r\")\n",
    "        while (1):\n",
    "            line = f.readline()\n",
    "            if line == \"\":\n",
    "                break\n",
    "            ratings.append(line.split(\"::\")[0:-1])\n",
    "        f.close()\n",
    "    if size == \"20m\":\n",
    "        path = os.path.join(\"Data\", \"ml-20m\", \"ratings.csv\")\n",
    "        print(\"Read movie lens 20m data set\")\n",
    "        f = open(path, \"r\")\n",
    "        line = f.readline()\n",
    "        while (1):\n",
    "            line = f.readline()\n",
    "            if line == \"\":\n",
    "                break\n",
    "            ratings.append(line.split(\",\")[0:-1])\n",
    "        f.close()\n",
    "    ratings = np.array(ratings, dtype = np.float32)\n",
    "    # permute the ratings array\n",
    "    ratings = np.random.permutation(ratings)\n",
    "    print(\"Loading data done\")\n",
    "    return ratings"
   ]
  },
  {
   "cell_type": "code",
   "execution_count": null,
   "metadata": {
    "collapsed": true
   },
   "outputs": [],
   "source": [
    "def load_split_data(data_size, test_p):\n",
    "    # Load data and split into train set, test set randomly.\n",
    "    # data_size is either \"100k\", \"1m\", \"10m\" or \"20m\".\n",
    "    # test_p is a float between 0 - 1 indicating the portion of data hold out as test set\n",
    "    print(\"split data randomly\")\n",
    "    # Load ratings, data is already permuted in get_data\n",
    "    ratings = get_data(data_size)\n",
    "    nb_users = int(np.max(ratings[:, 0]))\n",
    "    nb_movies = int(np.max(ratings[:, 1]))\n",
    "    # split test/train set\n",
    "    test_size = int(len(ratings) * test_p)\n",
    "    test_ratings = ratings[:test_size]\n",
    "    train_ratings = ratings[test_size:]\n",
    "    # train_ratings is converted into a matrix\n",
    "    train_M = np.zeros((nb_movies, nb_users), dtype = np.float32)\n",
    "    for rating in train_ratings:\n",
    "        train_M[int(rating[1]-1), int(rating[0]-1)] = rating[2]\n",
    "    # save test and train data in case more training is needed on this split\n",
    "    np.save(\"Data/\" + data_size + \"_\" + str(int(test_p * 100))+ \"percent_test.npy\", test_ratings)\n",
    "    np.save(\"Data/\" + data_size + \"_\" + str(int(test_p * 100))+ \"percent_trainM.npy\", train_M)\n",
    "    # test_ratings is numpy array of user id | item id | rating\n",
    "    # train_M is numpy array with nb_movies rows and nb_users columns, missing entries are filled with zero\n",
    "    return test_ratings, train_M, nb_users, nb_movies, len(train_ratings)"
   ]
  },
  {
   "cell_type": "code",
   "execution_count": null,
   "metadata": {
    "collapsed": false
   },
   "outputs": [],
   "source": [
    "test_ratings, train_M, nb_users, nb_movies, k = load_split_data(\"100k\", 0.1)"
   ]
  },
  {
   "cell_type": "code",
   "execution_count": 52,
   "metadata": {
    "collapsed": true
   },
   "outputs": [],
   "source": [
    "def sigmoid(x):\n",
    "    return 1.0/(1+np.exp(-x))"
   ]
  },
  {
   "cell_type": "code",
   "execution_count": 74,
   "metadata": {
    "collapsed": false
   },
   "outputs": [],
   "source": [
    "X = pd.read_csv(\"Data/wine_zeroone.csv\",header=None).values"
   ]
  },
  {
   "cell_type": "code",
   "execution_count": 75,
   "metadata": {
    "collapsed": true
   },
   "outputs": [],
   "source": [
    "X_mask = X.copy()"
   ]
  },
  {
   "cell_type": "code",
   "execution_count": 76,
   "metadata": {
    "collapsed": true
   },
   "outputs": [],
   "source": [
    "X_mask[X != 0] =1"
   ]
  },
  {
   "cell_type": "code",
   "execution_count": 77,
   "metadata": {
    "collapsed": false
   },
   "outputs": [
    {
     "data": {
      "text/plain": [
       "11"
      ]
     },
     "execution_count": 77,
     "metadata": {},
     "output_type": "execute_result"
    }
   ],
   "source": [
    "X.shape[1]"
   ]
  },
  {
   "cell_type": "code",
   "execution_count": 78,
   "metadata": {
    "collapsed": false
   },
   "outputs": [],
   "source": [
    "nn_input_dim = X.shape[1]\n",
    "nn_output_dim = X.shape[1]"
   ]
  },
  {
   "cell_type": "code",
   "execution_count": 79,
   "metadata": {
    "collapsed": true
   },
   "outputs": [],
   "source": [
    "W1 = np.random.randn(nn_input_dim, nn_hdim) / np.sqrt(nn_input_dim)\n",
    "b1 = np.zeros((1, nn_hdim))\n",
    "W2 = np.random.randn(nn_hdim, nn_output_dim) / np.sqrt(nn_hdim)\n",
    "b2 = np.zeros((1, nn_output_dim))"
   ]
  },
  {
   "cell_type": "code",
   "execution_count": 80,
   "metadata": {
    "collapsed": false
   },
   "outputs": [
    {
     "data": {
      "text/plain": [
       "(11, 4)"
      ]
     },
     "execution_count": 80,
     "metadata": {},
     "output_type": "execute_result"
    }
   ],
   "source": [
    "W1.shape"
   ]
  },
  {
   "cell_type": "code",
   "execution_count": 81,
   "metadata": {
    "collapsed": false
   },
   "outputs": [
    {
     "name": "stdout",
     "output_type": "stream",
     "text": [
      "0\n",
      "Loss: \n",
      "7393.3561847\n",
      "1\n",
      "Loss: \n",
      "3122.4595546\n",
      "2\n",
      "Loss: \n",
      "1473.16005037\n",
      "3\n",
      "Loss: \n",
      "775.107615151\n",
      "4\n",
      "Loss: \n",
      "467.112292796\n",
      "5\n",
      "Loss: \n",
      "328.330289818\n",
      "6\n",
      "Loss: \n",
      "265.065049092\n",
      "7\n",
      "Loss: \n",
      "236.017196568\n",
      "8\n",
      "Loss: \n",
      "222.607563204\n",
      "9\n",
      "Loss: \n",
      "216.381772862\n",
      "10\n",
      "Loss: \n",
      "213.466705894\n",
      "11\n",
      "Loss: \n",
      "212.080644676\n",
      "12\n",
      "Loss: \n",
      "211.401780412\n",
      "13\n",
      "Loss: \n",
      "211.050385078\n",
      "14\n",
      "Loss: \n",
      "210.850784569\n",
      "15\n",
      "Loss: \n",
      "210.721634769\n",
      "16\n",
      "Loss: \n",
      "210.625245212\n",
      "17\n",
      "Loss: \n",
      "210.544143082\n",
      "18\n",
      "Loss: \n",
      "210.470224621\n",
      "19\n",
      "Loss: \n",
      "210.399729774\n",
      "20\n",
      "Loss: \n",
      "210.330913064\n",
      "21\n",
      "Loss: \n",
      "210.262963647\n",
      "22\n",
      "Loss: \n",
      "210.1955044\n",
      "23\n",
      "Loss: \n",
      "210.128359519\n",
      "24\n",
      "Loss: \n",
      "210.061446668\n",
      "25\n",
      "Loss: \n",
      "209.99472691\n",
      "26\n",
      "Loss: \n",
      "209.928181473\n",
      "27\n",
      "Loss: \n",
      "209.861800949\n",
      "28\n",
      "Loss: \n",
      "209.79558029\n",
      "29\n",
      "Loss: \n",
      "209.729516473\n",
      "30\n",
      "Loss: \n",
      "209.663607423\n",
      "31\n",
      "Loss: \n",
      "209.597851511\n",
      "32\n",
      "Loss: \n",
      "209.532247317\n",
      "33\n",
      "Loss: \n",
      "209.466793525\n",
      "34\n",
      "Loss: \n",
      "209.401488872\n",
      "35\n",
      "Loss: \n",
      "209.336332121\n",
      "36\n",
      "Loss: \n",
      "209.271322056\n",
      "37\n",
      "Loss: \n",
      "209.206457474\n",
      "38\n",
      "Loss: \n",
      "209.141737181\n",
      "39\n",
      "Loss: \n",
      "209.077159994\n",
      "40\n",
      "Loss: \n",
      "209.012724737\n",
      "41\n",
      "Loss: \n",
      "208.948430244\n",
      "42\n",
      "Loss: \n",
      "208.884275358\n",
      "43\n",
      "Loss: \n",
      "208.820258928\n",
      "44\n",
      "Loss: \n",
      "208.756379814\n",
      "45\n",
      "Loss: \n",
      "208.692636882\n",
      "46\n",
      "Loss: \n",
      "208.629029007\n",
      "47\n",
      "Loss: \n",
      "208.565555073\n",
      "48\n",
      "Loss: \n",
      "208.502213969\n",
      "49\n",
      "Loss: \n",
      "208.439004595\n",
      "50\n",
      "Loss: \n",
      "208.375925857\n",
      "51\n",
      "Loss: \n",
      "208.312976669\n",
      "52\n",
      "Loss: \n",
      "208.250155954\n",
      "53\n",
      "Loss: \n",
      "208.18746264\n",
      "54\n",
      "Loss: \n",
      "208.124895665\n",
      "55\n",
      "Loss: \n",
      "208.062453973\n",
      "56\n",
      "Loss: \n",
      "208.000136516\n",
      "57\n",
      "Loss: \n",
      "207.937942254\n",
      "58\n",
      "Loss: \n",
      "207.875870153\n",
      "59\n",
      "Loss: \n",
      "207.813919186\n",
      "60\n",
      "Loss: \n",
      "207.752088335\n",
      "61\n",
      "Loss: \n",
      "207.690376587\n",
      "62\n",
      "Loss: \n",
      "207.628782939\n",
      "63\n",
      "Loss: \n",
      "207.567306391\n",
      "64\n",
      "Loss: \n",
      "207.505945952\n",
      "65\n",
      "Loss: \n",
      "207.44470064\n",
      "66\n",
      "Loss: \n",
      "207.383569476\n",
      "67\n",
      "Loss: \n",
      "207.322551489\n",
      "68\n",
      "Loss: \n",
      "207.261645717\n",
      "69\n",
      "Loss: \n",
      "207.200851201\n",
      "70\n",
      "Loss: \n",
      "207.140166991\n",
      "71\n",
      "Loss: \n",
      "207.079592143\n",
      "72\n",
      "Loss: \n",
      "207.01912572\n",
      "73\n",
      "Loss: \n",
      "206.95876679\n",
      "74\n",
      "Loss: \n",
      "206.898514428\n",
      "75\n",
      "Loss: \n",
      "206.838367717\n",
      "76\n",
      "Loss: \n",
      "206.778325743\n",
      "77\n",
      "Loss: \n",
      "206.718387601\n",
      "78\n",
      "Loss: \n",
      "206.658552391\n",
      "79\n",
      "Loss: \n",
      "206.598819219\n",
      "80\n",
      "Loss: \n",
      "206.539187198\n",
      "81\n",
      "Loss: \n",
      "206.479655447\n",
      "82\n",
      "Loss: \n",
      "206.420223089\n",
      "83\n",
      "Loss: \n",
      "206.360889255\n",
      "84\n",
      "Loss: \n",
      "206.301653081\n",
      "85\n",
      "Loss: \n",
      "206.24251371\n",
      "86\n",
      "Loss: \n",
      "206.183470288\n",
      "87\n",
      "Loss: \n",
      "206.124521971\n",
      "88\n",
      "Loss: \n",
      "206.065667916\n",
      "89\n",
      "Loss: \n",
      "206.006907289\n",
      "90\n",
      "Loss: \n",
      "205.948239261\n",
      "91\n",
      "Loss: \n",
      "205.889663008\n",
      "92\n",
      "Loss: \n",
      "205.83117771\n",
      "93\n",
      "Loss: \n",
      "205.772782556\n",
      "94\n",
      "Loss: \n",
      "205.714476738\n",
      "95\n",
      "Loss: \n",
      "205.656259454\n",
      "96\n",
      "Loss: \n",
      "205.598129906\n",
      "97\n",
      "Loss: \n",
      "205.540087304\n",
      "98\n",
      "Loss: \n",
      "205.482130862\n",
      "99\n",
      "Loss: \n",
      "205.424259798\n"
     ]
    }
   ],
   "source": [
    "L = []\n",
    "Flag = True\n",
    "for i in xrange(0, 100):\n",
    "    print i\n",
    "#     if i > 600 and Flag:\n",
    "#         epsilon *= 0.5\n",
    "#         Flag = False\n",
    "\n",
    "    # Forward propagation\n",
    "    #print \"W1:\"\n",
    "    #print W1\n",
    "    z1 = X.dot(W1) + b1\n",
    "    #print \"z1:\"\n",
    "    #print z1\n",
    "    a1 = sigmoid(z1)\n",
    "    #print \"a1\"\n",
    "    #print a1\n",
    "    #print \"W2\"\n",
    "    #print W2\n",
    "    z2 = a1.dot(W2) + b2\n",
    "    #print \"z2\"\n",
    "    #print z2\n",
    "    loss = np.sum(np.square(X - z2) * X_mask)\n",
    "    loss += (reg_lambda/2) * (1.0/ X.shape[0]) * (np.sum(np.square(W1)) + np.sum(np.square(W2)))\n",
    "    L.append(loss)\n",
    "    print \"Loss: \"\n",
    "    print loss\n",
    "\n",
    "    # Backpropagation\n",
    "    delta3 = (z2 - X) * X_mask\n",
    "    #print \"delta3:\"\n",
    "    #print delta3\n",
    "    dW2 = (a1.T).dot(delta3)\n",
    "    #print \"dw2:\"\n",
    "    #print dW2\n",
    "    db2 = np.sum(delta3, axis=0, keepdims=True)\n",
    "    #print \"db2\"\n",
    "    #print db2\n",
    "    delta2 = delta3.dot(W2.T) * a1 * (1 - a1)\n",
    "    #print \"delta2\"\n",
    "    #print delta2\n",
    "    dW1 = np.dot((X * X_mask).T, delta2)\n",
    "    #print \"dw1\"\n",
    "    #print dW1\n",
    "    db1 = np.sum(delta2, axis=0)\n",
    "    #print \"db1\"\n",
    "    #print db1\n",
    "    # Add regularization terms (b1 and b2 don't have regularization terms)\n",
    "    dW2 += reg_lambda * W2\n",
    "    dW1 += reg_lambda * W1\n",
    "\n",
    "    # Gradient descent parameter update\n",
    "    W1 += -epsilon * dW1\n",
    "    b1 += -epsilon * db1\n",
    "    W2 += -epsilon * dW2\n",
    "    b2 += -epsilon * db2"
   ]
  },
  {
   "cell_type": "code",
   "execution_count": 82,
   "metadata": {
    "collapsed": false
   },
   "outputs": [
    {
     "data": {
      "text/plain": [
       "[<matplotlib.lines.Line2D at 0x11a199810>]"
      ]
     },
     "execution_count": 82,
     "metadata": {},
     "output_type": "execute_result"
    },
    {
     "data": {
      "image/png": "[encoded data removed]",
      "text/plain": [
       "<matplotlib.figure.Figure at 0x119d320d0>"
      ]
     },
     "metadata": {},
     "output_type": "display_data"
    }
   ],
   "source": [
    "plt.plot(L)"
   ]
  },
  {
   "cell_type": "code",
   "execution_count": 83,
   "metadata": {
    "collapsed": false
   },
   "outputs": [
    {
     "data": {
      "text/plain": [
       "array([[ 0.34615385,  0.25490196,  0.25301205, ...,  0.36363636,\n",
       "         0.36046512,  0.53225806],\n",
       "       [ 0.17307692,  0.30392157,  0.        , ...,  0.50909091,\n",
       "         0.1627907 ,  0.        ],\n",
       "       [ 0.46153846,  0.        ,  0.        , ...,  0.34545455,\n",
       "         0.39534884,  0.4516129 ],\n",
       "       ..., \n",
       "       [ 0.33653846,  0.14705882,  0.22289157, ...,  0.        ,\n",
       "         0.        ,  0.67741935],\n",
       "       [ 0.        ,  0.31372549,  0.        , ...,  0.58181818,\n",
       "         0.        ,  0.74193548],\n",
       "       [ 0.        ,  0.07843137,  0.18072289, ...,  0.6       ,\n",
       "         0.25581395,  0.51612903]])"
      ]
     },
     "execution_count": 83,
     "metadata": {},
     "output_type": "execute_result"
    }
   ],
   "source": [
    "X"
   ]
  },
  {
   "cell_type": "code",
   "execution_count": 87,
   "metadata": {
    "collapsed": true
   },
   "outputs": [],
   "source": [
    "X_oracle = pd.read_csv(\"Data/wine_zeroone_oracle.csv\",header=None)"
   ]
  },
  {
   "cell_type": "code",
   "execution_count": 90,
   "metadata": {
    "collapsed": false
   },
   "outputs": [
    {
     "data": {
      "text/plain": [
       "297.74476714273322"
      ]
     },
     "execution_count": 90,
     "metadata": {},
     "output_type": "execute_result"
    }
   ],
   "source": [
    "np.sum((z2 - X_oracle.values) ** 2)"
   ]
  },
  {
   "cell_type": "code",
   "execution_count": null,
   "metadata": {
    "collapsed": false
   },
   "outputs": [],
   "source": [
    "pd.DataFrame(z2)"
   ]
  },
  {
   "cell_type": "code",
   "execution_count": null,
   "metadata": {
    "collapsed": true
   },
   "outputs": [],
   "source": [
    "#bg end"
   ]
  },
  {
   "cell_type": "code",
   "execution_count": null,
   "metadata": {
    "collapsed": false
   },
   "outputs": [],
   "source": [
    "train_M = pd.read_csv(\"Data/wine_zc.csv\",header=None)"
   ]
  },
  {
   "cell_type": "code",
   "execution_count": null,
   "metadata": {
    "collapsed": false
   },
   "outputs": [],
   "source": [
    "train_M = train_M.T"
   ]
  },
  {
   "cell_type": "code",
   "execution_count": null,
   "metadata": {
    "collapsed": false
   },
   "outputs": [],
   "source": [
    "train_M.shape"
   ]
  },
  {
   "cell_type": "code",
   "execution_count": null,
   "metadata": {
    "collapsed": true
   },
   "outputs": [],
   "source": [
    "nb_movies = train_M.shape[0]\n",
    "nb_users = train_M.shape[1]"
   ]
  },
  {
   "cell_type": "code",
   "execution_count": null,
   "metadata": {
    "collapsed": true
   },
   "outputs": [],
   "source": [
    "train_M = train_M.values"
   ]
  },
  {
   "cell_type": "code",
   "execution_count": null,
   "metadata": {
    "collapsed": false
   },
   "outputs": [],
   "source": [
    "prediction_M = np.zeros((nb_movies, nb_users), dtype = np.float32)"
   ]
  },
  {
   "cell_type": "code",
   "execution_count": null,
   "metadata": {
    "collapsed": false
   },
   "outputs": [],
   "source": [
    "prediction_M.shape"
   ]
  },
  {
   "cell_type": "code",
   "execution_count": null,
   "metadata": {
    "collapsed": false
   },
   "outputs": [],
   "source": [
    "RMSE_list = [0] * nb_epoch"
   ]
  },
  {
   "cell_type": "code",
   "execution_count": null,
   "metadata": {
    "collapsed": true
   },
   "outputs": [],
   "source": [
    "X = T.dvector(\"input\")\n",
    "X_observed = T.dvector(\"observedIndex\")\n",
    "update_matrix = T.matrix(\"updateIndex\")"
   ]
  },
  {
   "cell_type": "code",
   "execution_count": null,
   "metadata": {
    "collapsed": false
   },
   "outputs": [],
   "source": [
    "V = theano.shared(np.random.randn(nb_hunits, nb_users), name='V')\n",
    "miu = theano.shared(np.zeros(nb_hunits), name='miu')\n",
    "W = theano.shared(np.random.randn(nb_users, nb_hunits), name='W')\n",
    "b = theano.shared(np.zeros(nb_users), name='b')\n",
    "z1 = T.nnet.sigmoid(V.dot(X) + miu)\n",
    "z2 = W.dot(z1) + b\n",
    "loss_reg = 1.0/nb_movies * lambda_reg/2 * (T.sum(T.sqr(V)) + T.sum(T.sqr(W)))\n",
    "loss = T.sum(T.sqr((X - z2) * X_observed)) + loss_reg\n",
    "gV, gmiu, gW, gb = T.grad(loss, [V, miu, W, b])"
   ]
  },
  {
   "cell_type": "code",
   "execution_count": null,
   "metadata": {
    "collapsed": false
   },
   "outputs": [],
   "source": [
    "train = theano.function(\n",
    "      inputs=[X, X_observed, update_matrix],\n",
    "      outputs=[z2],\n",
    "      updates=((V, V - learningrate * gV * update_matrix),(miu, miu - learningrate * gmiu),\n",
    "          (W, W - learningrate * gW * update_matrix.T), (b, b - learningrate * gb * X_observed)))"
   ]
  },
  {
   "cell_type": "code",
   "execution_count": null,
   "metadata": {
    "collapsed": false
   },
   "outputs": [],
   "source": [
    "for j in range(nb_epoch):\n",
    "    print(str(j + 1) + \" epoch\")\n",
    "    l = 0\n",
    "    for i in np.random.permutation(nb_movies):\n",
    "        Ri = train_M[i, :]\n",
    "        Ri_observed = Ri.copy()\n",
    "        Ri_observed[Ri != 0] = 1\n",
    "\n",
    "        \n",
    "        update_m = np.tile(Ri_observed, (nb_hunits, 1))\n",
    "        Ri_predicted = train(Ri, Ri_observed, update_m)\n",
    "        prediction_M[i, :] = np.array(Ri_predicted)\n",
    "        l += sum(np.square(prediction_M[i,:]-Ri))\n",
    "    print \"Loss: \" + str(l)\n",
    "        \n",
    "    #RMSE_list[j] = cal_RMSE(prediction_M, test_ratings)\n",
    "\n",
    "print(\"training complete\")\n",
    "#return nb_epoch, RMSE_list"
   ]
  },
  {
   "cell_type": "code",
   "execution_count": null,
   "metadata": {
    "collapsed": false
   },
   "outputs": [],
   "source": [
    "train_M[1]"
   ]
  },
  {
   "cell_type": "code",
   "execution_count": null,
   "metadata": {
    "collapsed": false
   },
   "outputs": [],
   "source": [
    "prediction_M[1]"
   ]
  },
  {
   "cell_type": "code",
   "execution_count": null,
   "metadata": {
    "collapsed": true
   },
   "outputs": [],
   "source": [
    "def cal_RMSE(prediction_M, test_ratings):\n",
    "    RMSE = 0\n",
    "    for rating in test_ratings:\n",
    "        RMSE += (rating[2] - prediction_M[int(rating[1] - 1), int(rating[0] - 1)])**2\n",
    "    RMSE = math.sqrt(RMSE / len(test_ratings))\n",
    "    return RMSE"
   ]
  },
  {
   "cell_type": "code",
   "execution_count": null,
   "metadata": {
    "collapsed": true
   },
   "outputs": [],
   "source": [
    "def train_auto(data_size = \"100k\", nb_epoch = 10, test_p = 0.1, nb_hunits = 10, lambda_reg = 0.001, learningrate = 0.01):\n",
    "    test_ratings, train_M, nb_users, nb_movies, k = load_split_data(data_size, test_p)\n",
    "    prediction_M = np.zeros((nb_movies, nb_users), dtype = np.float32)\n",
    "    RMSE_list = [0] * nb_epoch\n",
    "\n",
    "    # set up theano autoencoder structure and update function\n",
    "    X = T.dvector(\"input\")\n",
    "    X_observed = T.dvector(\"observedIndex\")\n",
    "    update_matrix = T.matrix(\"updateIndex\")\n",
    "    V = theano.shared(np.random.randn(nb_hunits, nb_users), name='V')\n",
    "    miu = theano.shared(np.zeros(nb_hunits), name='miu')\n",
    "    W = theano.shared(np.random.randn(nb_users, nb_hunits), name='W')\n",
    "    b = theano.shared(np.zeros(nb_users), name='b')\n",
    "    z1 = T.nnet.sigmoid(V.dot(X) + miu)\n",
    "    z2 = W.dot(z1) + b\n",
    "    loss_reg = 1.0/nb_movies * lambda_reg/2 * (T.sum(T.sqr(V)) + T.sum(T.sqr(W)))\n",
    "    loss = T.sum(T.sqr((X - z2) * X_observed)) + loss_reg\n",
    "    gV, gmiu, gW, gb = T.grad(loss, [V, miu, W, b])\n",
    "\n",
    "    train = theano.function(\n",
    "          inputs=[X, X_observed, update_matrix],\n",
    "          outputs=[z2],\n",
    "          updates=((V, V - learningrate * gV * update_matrix),(miu, miu - learningrate * gmiu),\n",
    "              (W, W - learningrate * gW * update_matrix.T), (b, b - learningrate * gb * X_observed)))\n",
    "\n",
    "    for j in range(nb_epoch):\n",
    "        print(str(j + 1) + \" epoch\")\n",
    "        for i in np.random.permutation(nb_movies):\n",
    "            Ri = train_M[i, :]\n",
    "            Ri_observed = Ri.copy()\n",
    "            Ri_observed[Ri > 0] = 1\n",
    "            update_m = np.tile(Ri_observed, (nb_hunits, 1))\n",
    "            Ri_predicted = train(Ri, Ri_observed, update_m)\n",
    "            prediction_M[i, :] = np.array(Ri_predicted)\n",
    "        RMSE_list[j] = cal_RMSE(prediction_M, test_ratings)\n",
    "\n",
    "    print(\"training complete\")\n",
    "    return nb_epoch, RMSE_list, Ri_predicted"
   ]
  },
  {
   "cell_type": "code",
   "execution_count": null,
   "metadata": {
    "collapsed": false
   },
   "outputs": [],
   "source": [
    "Ri"
   ]
  },
  {
   "cell_type": "code",
   "execution_count": null,
   "metadata": {
    "collapsed": false
   },
   "outputs": [],
   "source": [
    "train_auto()"
   ]
  }
 ],
 "metadata": {
  "anaconda-cloud": {},
  "kernelspec": {
   "display_name": "Python [conda env:py27]",
   "language": "python",
   "name": "conda-env-py27-py"
  },
  "language_info": {
   "codemirror_mode": {
    "name": "ipython",
    "version": 2
   },
   "file_extension": ".py",
   "mimetype": "text/x-python",
   "name": "python",
   "nbconvert_exporter": "python",
   "pygments_lexer": "ipython2",
   "version": "2.7.11"
  }
 },
 "nbformat": 4,
 "nbformat_minor": 1
}
